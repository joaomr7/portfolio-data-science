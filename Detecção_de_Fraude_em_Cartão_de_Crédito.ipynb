{
  "nbformat": 4,
  "nbformat_minor": 0,
  "metadata": {
    "colab": {
      "provenance": [],
      "toc_visible": true,
      "authorship_tag": "ABX9TyNWTknAsGlOTFYrQQ0pDADb",
      "include_colab_link": true
    },
    "kernelspec": {
      "name": "python3",
      "display_name": "Python 3"
    },
    "language_info": {
      "name": "python"
    }
  },
  "cells": [
    {
      "cell_type": "markdown",
      "metadata": {
        "id": "view-in-github",
        "colab_type": "text"
      },
      "source": [
        "<a href=\"https://colab.research.google.com/github/joaomr7/portfolio-data-science/blob/main/Detec%C3%A7%C3%A3o_de_Fraude_em_Cart%C3%A3o_de_Cr%C3%A9dito.ipynb\" target=\"_parent\"><img src=\"https://colab.research.google.com/assets/colab-badge.svg\" alt=\"Open In Colab\"/></a>"
      ]
    },
    {
      "cell_type": "markdown",
      "source": [
        "# Detecção de Fraude em Cartão de Crédito\n",
        "\n",
        "---\n",
        "\n",
        "Este projeto visa abordar o problema de fraude de cartão de crédito desenvolvendo uma solução de machine learning. Essas fraudes, quando ocorrem, trazem desconforto para clientes, comerciantes e para a instituição financeira que fornece o cartão.\n",
        "\n",
        "<br>\n",
        "\n",
        "<center><img src=\"https://drive.google.com/uc?export=view&id=1y4A3k0U_kSiJq1KMGVgOeDKDK3dHLzKI\" align=\"center\" height=\"400\"/></center>\n",
        "\n",
        "<br>\n",
        "\n",
        "No Brasil, desde que o titular do cartão tenha agido de maneira responsável e reportado a fraude imediatamente, o **prejuízo recai todo sobre a instituição financeira**, uma vez que era obrigação desta fornecer **segurança ao cliente**. Para ter ideia da gravidade da situação, **1/3 dos brasileiros já foram vítimas** desse tipo de fraude(leia essa notícia em [Canaltech](https://canaltech.com.br/seguranca/13-dos-brasileiros-ja-foram-vitimas-de-fraude-por-cartao-de-credito-223018/)).\n",
        "\n",
        "Com isso, é importante que as instituições financeiras tenham ótimas soluções para detectar as fraudes. É aí que a **Inteligência Artificial vem com grande força**. Uma vez que existem vários dados de transações bancárias, é praticamente impossível um ser humano analisar tudo e aprender uma forma de detectar as fraudes. Porém com as soluções de IA, essa tarefa torna-se trivial com o poder computacional das máquinas, que, utilizando dessas soluções, tornam-se **poderosas máquinas de encontrar padrões**.\n",
        "\n",
        "Portanto, o objetivo desse notebook é produzir um modelo de machine learning capaz de detectar o maior número possível de fraudes de cartão de crédito."
      ],
      "metadata": {
        "id": "_EwTpCp0xluR"
      }
    },
    {
      "cell_type": "markdown",
      "source": [
        "## Obtenção dos dados\n",
        "\n",
        "Os dados originais que serão usados, podem ser obtidos [nesse link](https://www.kaggle.com/datasets/mlg-ulb/creditcardfraud).\n",
        "\n",
        "#### Informações sobre o dataset(conjunto de dados), de acordo com a fonte:\n",
        "* O dataset é composto por transações **ocorridas em 2 dias**, efetuadas com cartões de crédito em setembro de 2013 por titulares de cartões europeus;\n",
        "* O dataset possui **492 registros de fraude** de um total de 284.807 transações;\n",
        "* Os dados são todos numéricos e resultam de uma tranformação **PCA**(veja nota abaixo);\n",
        "* Por questões de confidencialidade, o significado das colunas do dataset não são mostradas. Por isso, as colunas são numeradas como **`V1, V2, ..., V28`** e são os principais componentes obtidos pela transformação PCA;\n",
        "* As únicas colunas que não foram transformadas são **`Time`** e **`Amount`**;\n",
        "* **`Time`** representa o tempo decorrido desde a primeria transação no dataset;\n",
        "* **`Amount`** respresenta a quantia da transação;\n",
        "* Há também uma coluna, nomeada **`Class`**, que possui os valores como sendo **1**, em caso de fraude, e **0** caso contrário.\n",
        "\n",
        "---\n",
        "\n",
        "### **`Nota`**\n",
        "PCA é a abreviação de **`principal component analysis`**. Esta é uma técnica de **redução de dimensão** do conjunto de dados que tenta **manter o maior número possível de informações relevantes**. No caso do nosso conjunto de dados, as variáveis resultantes desse processo são as colunas **[V1, V2, ..., V28]**.\n",
        "\n",
        "<br>\n",
        "\n",
        "Feitas as observações inicias, vamos importar os dados para uma estrura que conseguimos manipular no Python.\n",
        "\n"
      ],
      "metadata": {
        "id": "aBny2RcOaaII"
      }
    },
    {
      "cell_type": "code",
      "source": [
        "# instalando os pacotes necessários\n",
        "! pip install scikit-learn-intelex"
      ],
      "metadata": {
        "colab": {
          "base_uri": "https://localhost:8080/"
        },
        "id": "FhEEeAx3DItd",
        "outputId": "0e16f9cc-7f1f-47a5-bcf9-cda8c4af5a2a"
      },
      "execution_count": 1,
      "outputs": [
        {
          "output_type": "stream",
          "name": "stdout",
          "text": [
            "Collecting scikit-learn-intelex\n",
            "  Downloading scikit_learn_intelex-2023.2.1-py310-none-manylinux1_x86_64.whl (128 kB)\n",
            "\u001b[2K     \u001b[90m━━━━━━━━━━━━━━━━━━━━━━━━━━━━━━━━━━━━━━━━\u001b[0m \u001b[32m128.7/128.7 kB\u001b[0m \u001b[31m2.3 MB/s\u001b[0m eta \u001b[36m0:00:00\u001b[0m\n",
            "\u001b[?25hCollecting daal4py==2023.2.1 (from scikit-learn-intelex)\n",
            "  Downloading daal4py-2023.2.1-py310-none-manylinux1_x86_64.whl (14.0 MB)\n",
            "\u001b[2K     \u001b[90m━━━━━━━━━━━━━━━━━━━━━━━━━━━━━━━━━━━━━━━━\u001b[0m \u001b[32m14.0/14.0 MB\u001b[0m \u001b[31m18.4 MB/s\u001b[0m eta \u001b[36m0:00:00\u001b[0m\n",
            "\u001b[?25hRequirement already satisfied: scikit-learn>=0.22 in /usr/local/lib/python3.10/dist-packages (from scikit-learn-intelex) (1.2.2)\n",
            "Collecting daal==2023.2.1 (from daal4py==2023.2.1->scikit-learn-intelex)\n",
            "  Downloading daal-2023.2.1-py2.py3-none-manylinux1_x86_64.whl (75.3 MB)\n",
            "\u001b[2K     \u001b[90m━━━━━━━━━━━━━━━━━━━━━━━━━━━━━━━━━━━━━━━━\u001b[0m \u001b[32m75.3/75.3 MB\u001b[0m \u001b[31m6.8 MB/s\u001b[0m eta \u001b[36m0:00:00\u001b[0m\n",
            "\u001b[?25hRequirement already satisfied: numpy>=1.19 in /usr/local/lib/python3.10/dist-packages (from daal4py==2023.2.1->scikit-learn-intelex) (1.23.5)\n",
            "Requirement already satisfied: tbb==2021.* in /usr/local/lib/python3.10/dist-packages (from daal==2023.2.1->daal4py==2023.2.1->scikit-learn-intelex) (2021.10.0)\n",
            "Requirement already satisfied: scipy>=1.3.2 in /usr/local/lib/python3.10/dist-packages (from scikit-learn>=0.22->scikit-learn-intelex) (1.11.3)\n",
            "Requirement already satisfied: joblib>=1.1.1 in /usr/local/lib/python3.10/dist-packages (from scikit-learn>=0.22->scikit-learn-intelex) (1.3.2)\n",
            "Requirement already satisfied: threadpoolctl>=2.0.0 in /usr/local/lib/python3.10/dist-packages (from scikit-learn>=0.22->scikit-learn-intelex) (3.2.0)\n",
            "Installing collected packages: daal, daal4py, scikit-learn-intelex\n",
            "Successfully installed daal-2023.2.1 daal4py-2023.2.1 scikit-learn-intelex-2023.2.1\n"
          ]
        }
      ]
    },
    {
      "cell_type": "code",
      "source": [
        "# importar os pacotes necessários\n",
        "import pandas as pd\n",
        "import matplotlib.pyplot as plt\n",
        "import seaborn as sns\n",
        "import numpy as np\n",
        "\n",
        "# para acelerar algoritmos do sklearn\n",
        "from sklearnex import patch_sklearn\n",
        "patch_sklearn()\n",
        "\n",
        "from imblearn.under_sampling import RandomUnderSampler\n",
        "\n",
        "# sklearn\n",
        "from sklearn.compose import ColumnTransformer\n",
        "from sklearn.preprocessing import StandardScaler, MinMaxScaler\n",
        "\n",
        "from sklearn.model_selection import train_test_split\n",
        "from sklearn.model_selection import cross_val_predict\n",
        "from sklearn.model_selection import StratifiedKFold\n",
        "from sklearn.model_selection import GridSearchCV\n",
        "\n",
        "from sklearn.metrics import classification_report, confusion_matrix, roc_auc_score\n",
        "\n",
        "from sklearn.linear_model import LogisticRegression\n",
        "from sklearn.svm import SVC\n",
        "from sklearn.naive_bayes import GaussianNB\n",
        "from sklearn.ensemble import RandomForestClassifier\n",
        "\n",
        "from sklearn.base import clone"
      ],
      "metadata": {
        "id": "TqaZnyQKgb1v",
        "colab": {
          "base_uri": "https://localhost:8080/"
        },
        "outputId": "c5d7660c-751a-4557-a639-6dee75a6d4c1"
      },
      "execution_count": 36,
      "outputs": [
        {
          "output_type": "stream",
          "name": "stderr",
          "text": [
            "Intel(R) Extension for Scikit-learn* enabled (https://github.com/intel/scikit-learn-intelex)\n"
          ]
        }
      ]
    },
    {
      "cell_type": "code",
      "source": [
        "# link para o dataset fornecido pela Sigmoidal\n",
        "DATASET_PATH = 'https://www.dropbox.com/s/b44o3t3ehmnx2b7/creditcard.csv?dl=1'\n",
        "\n",
        "# importanto os dados\n",
        "transactions = pd.read_csv(DATASET_PATH)"
      ],
      "metadata": {
        "id": "F8MGNc3fgyol"
      },
      "execution_count": 3,
      "outputs": []
    },
    {
      "cell_type": "markdown",
      "source": [
        "## Análise exploratória\n",
        "\n",
        "Importado os dados, podemos fazer nossa analise inicial.\n",
        "\n",
        "Começamos visualizando a cara do dataset."
      ],
      "metadata": {
        "id": "NqoIxEAuh4i9"
      }
    },
    {
      "cell_type": "code",
      "source": [
        "# aumentar o número máximo de colunas que podem ser exibidas\n",
        "pd.set_option('display.max_columns', 31)\n",
        "\n",
        "# mostrar as primeiras linhas do dataset\n",
        "transactions.head()"
      ],
      "metadata": {
        "id": "5BEPQDREhxjM",
        "colab": {
          "base_uri": "https://localhost:8080/",
          "height": 226
        },
        "outputId": "7c4c0677-6f7a-4c97-d9a6-6b1d91b13e66"
      },
      "execution_count": 4,
      "outputs": [
        {
          "output_type": "execute_result",
          "data": {
            "text/plain": [
              "   Time        V1        V2        V3        V4        V5        V6        V7  \\\n",
              "0   0.0 -1.359807 -0.072781  2.536347  1.378155 -0.338321  0.462388  0.239599   \n",
              "1   0.0  1.191857  0.266151  0.166480  0.448154  0.060018 -0.082361 -0.078803   \n",
              "2   1.0 -1.358354 -1.340163  1.773209  0.379780 -0.503198  1.800499  0.791461   \n",
              "3   1.0 -0.966272 -0.185226  1.792993 -0.863291 -0.010309  1.247203  0.237609   \n",
              "4   2.0 -1.158233  0.877737  1.548718  0.403034 -0.407193  0.095921  0.592941   \n",
              "\n",
              "         V8        V9       V10       V11       V12       V13       V14  \\\n",
              "0  0.098698  0.363787  0.090794 -0.551600 -0.617801 -0.991390 -0.311169   \n",
              "1  0.085102 -0.255425 -0.166974  1.612727  1.065235  0.489095 -0.143772   \n",
              "2  0.247676 -1.514654  0.207643  0.624501  0.066084  0.717293 -0.165946   \n",
              "3  0.377436 -1.387024 -0.054952 -0.226487  0.178228  0.507757 -0.287924   \n",
              "4 -0.270533  0.817739  0.753074 -0.822843  0.538196  1.345852 -1.119670   \n",
              "\n",
              "        V15       V16       V17       V18       V19       V20       V21  \\\n",
              "0  1.468177 -0.470401  0.207971  0.025791  0.403993  0.251412 -0.018307   \n",
              "1  0.635558  0.463917 -0.114805 -0.183361 -0.145783 -0.069083 -0.225775   \n",
              "2  2.345865 -2.890083  1.109969 -0.121359 -2.261857  0.524980  0.247998   \n",
              "3 -0.631418 -1.059647 -0.684093  1.965775 -1.232622 -0.208038 -0.108300   \n",
              "4  0.175121 -0.451449 -0.237033 -0.038195  0.803487  0.408542 -0.009431   \n",
              "\n",
              "        V22       V23       V24       V25       V26       V27       V28  \\\n",
              "0  0.277838 -0.110474  0.066928  0.128539 -0.189115  0.133558 -0.021053   \n",
              "1 -0.638672  0.101288 -0.339846  0.167170  0.125895 -0.008983  0.014724   \n",
              "2  0.771679  0.909412 -0.689281 -0.327642 -0.139097 -0.055353 -0.059752   \n",
              "3  0.005274 -0.190321 -1.175575  0.647376 -0.221929  0.062723  0.061458   \n",
              "4  0.798278 -0.137458  0.141267 -0.206010  0.502292  0.219422  0.215153   \n",
              "\n",
              "   Amount  Class  \n",
              "0  149.62      0  \n",
              "1    2.69      0  \n",
              "2  378.66      0  \n",
              "3  123.50      0  \n",
              "4   69.99      0  "
            ],
            "text/html": [
              "\n",
              "  <div id=\"df-ae0ab4d4-5e2a-42de-8c41-32f2c8502ea6\" class=\"colab-df-container\">\n",
              "    <div>\n",
              "<style scoped>\n",
              "    .dataframe tbody tr th:only-of-type {\n",
              "        vertical-align: middle;\n",
              "    }\n",
              "\n",
              "    .dataframe tbody tr th {\n",
              "        vertical-align: top;\n",
              "    }\n",
              "\n",
              "    .dataframe thead th {\n",
              "        text-align: right;\n",
              "    }\n",
              "</style>\n",
              "<table border=\"1\" class=\"dataframe\">\n",
              "  <thead>\n",
              "    <tr style=\"text-align: right;\">\n",
              "      <th></th>\n",
              "      <th>Time</th>\n",
              "      <th>V1</th>\n",
              "      <th>V2</th>\n",
              "      <th>V3</th>\n",
              "      <th>V4</th>\n",
              "      <th>V5</th>\n",
              "      <th>V6</th>\n",
              "      <th>V7</th>\n",
              "      <th>V8</th>\n",
              "      <th>V9</th>\n",
              "      <th>V10</th>\n",
              "      <th>V11</th>\n",
              "      <th>V12</th>\n",
              "      <th>V13</th>\n",
              "      <th>V14</th>\n",
              "      <th>V15</th>\n",
              "      <th>V16</th>\n",
              "      <th>V17</th>\n",
              "      <th>V18</th>\n",
              "      <th>V19</th>\n",
              "      <th>V20</th>\n",
              "      <th>V21</th>\n",
              "      <th>V22</th>\n",
              "      <th>V23</th>\n",
              "      <th>V24</th>\n",
              "      <th>V25</th>\n",
              "      <th>V26</th>\n",
              "      <th>V27</th>\n",
              "      <th>V28</th>\n",
              "      <th>Amount</th>\n",
              "      <th>Class</th>\n",
              "    </tr>\n",
              "  </thead>\n",
              "  <tbody>\n",
              "    <tr>\n",
              "      <th>0</th>\n",
              "      <td>0.0</td>\n",
              "      <td>-1.359807</td>\n",
              "      <td>-0.072781</td>\n",
              "      <td>2.536347</td>\n",
              "      <td>1.378155</td>\n",
              "      <td>-0.338321</td>\n",
              "      <td>0.462388</td>\n",
              "      <td>0.239599</td>\n",
              "      <td>0.098698</td>\n",
              "      <td>0.363787</td>\n",
              "      <td>0.090794</td>\n",
              "      <td>-0.551600</td>\n",
              "      <td>-0.617801</td>\n",
              "      <td>-0.991390</td>\n",
              "      <td>-0.311169</td>\n",
              "      <td>1.468177</td>\n",
              "      <td>-0.470401</td>\n",
              "      <td>0.207971</td>\n",
              "      <td>0.025791</td>\n",
              "      <td>0.403993</td>\n",
              "      <td>0.251412</td>\n",
              "      <td>-0.018307</td>\n",
              "      <td>0.277838</td>\n",
              "      <td>-0.110474</td>\n",
              "      <td>0.066928</td>\n",
              "      <td>0.128539</td>\n",
              "      <td>-0.189115</td>\n",
              "      <td>0.133558</td>\n",
              "      <td>-0.021053</td>\n",
              "      <td>149.62</td>\n",
              "      <td>0</td>\n",
              "    </tr>\n",
              "    <tr>\n",
              "      <th>1</th>\n",
              "      <td>0.0</td>\n",
              "      <td>1.191857</td>\n",
              "      <td>0.266151</td>\n",
              "      <td>0.166480</td>\n",
              "      <td>0.448154</td>\n",
              "      <td>0.060018</td>\n",
              "      <td>-0.082361</td>\n",
              "      <td>-0.078803</td>\n",
              "      <td>0.085102</td>\n",
              "      <td>-0.255425</td>\n",
              "      <td>-0.166974</td>\n",
              "      <td>1.612727</td>\n",
              "      <td>1.065235</td>\n",
              "      <td>0.489095</td>\n",
              "      <td>-0.143772</td>\n",
              "      <td>0.635558</td>\n",
              "      <td>0.463917</td>\n",
              "      <td>-0.114805</td>\n",
              "      <td>-0.183361</td>\n",
              "      <td>-0.145783</td>\n",
              "      <td>-0.069083</td>\n",
              "      <td>-0.225775</td>\n",
              "      <td>-0.638672</td>\n",
              "      <td>0.101288</td>\n",
              "      <td>-0.339846</td>\n",
              "      <td>0.167170</td>\n",
              "      <td>0.125895</td>\n",
              "      <td>-0.008983</td>\n",
              "      <td>0.014724</td>\n",
              "      <td>2.69</td>\n",
              "      <td>0</td>\n",
              "    </tr>\n",
              "    <tr>\n",
              "      <th>2</th>\n",
              "      <td>1.0</td>\n",
              "      <td>-1.358354</td>\n",
              "      <td>-1.340163</td>\n",
              "      <td>1.773209</td>\n",
              "      <td>0.379780</td>\n",
              "      <td>-0.503198</td>\n",
              "      <td>1.800499</td>\n",
              "      <td>0.791461</td>\n",
              "      <td>0.247676</td>\n",
              "      <td>-1.514654</td>\n",
              "      <td>0.207643</td>\n",
              "      <td>0.624501</td>\n",
              "      <td>0.066084</td>\n",
              "      <td>0.717293</td>\n",
              "      <td>-0.165946</td>\n",
              "      <td>2.345865</td>\n",
              "      <td>-2.890083</td>\n",
              "      <td>1.109969</td>\n",
              "      <td>-0.121359</td>\n",
              "      <td>-2.261857</td>\n",
              "      <td>0.524980</td>\n",
              "      <td>0.247998</td>\n",
              "      <td>0.771679</td>\n",
              "      <td>0.909412</td>\n",
              "      <td>-0.689281</td>\n",
              "      <td>-0.327642</td>\n",
              "      <td>-0.139097</td>\n",
              "      <td>-0.055353</td>\n",
              "      <td>-0.059752</td>\n",
              "      <td>378.66</td>\n",
              "      <td>0</td>\n",
              "    </tr>\n",
              "    <tr>\n",
              "      <th>3</th>\n",
              "      <td>1.0</td>\n",
              "      <td>-0.966272</td>\n",
              "      <td>-0.185226</td>\n",
              "      <td>1.792993</td>\n",
              "      <td>-0.863291</td>\n",
              "      <td>-0.010309</td>\n",
              "      <td>1.247203</td>\n",
              "      <td>0.237609</td>\n",
              "      <td>0.377436</td>\n",
              "      <td>-1.387024</td>\n",
              "      <td>-0.054952</td>\n",
              "      <td>-0.226487</td>\n",
              "      <td>0.178228</td>\n",
              "      <td>0.507757</td>\n",
              "      <td>-0.287924</td>\n",
              "      <td>-0.631418</td>\n",
              "      <td>-1.059647</td>\n",
              "      <td>-0.684093</td>\n",
              "      <td>1.965775</td>\n",
              "      <td>-1.232622</td>\n",
              "      <td>-0.208038</td>\n",
              "      <td>-0.108300</td>\n",
              "      <td>0.005274</td>\n",
              "      <td>-0.190321</td>\n",
              "      <td>-1.175575</td>\n",
              "      <td>0.647376</td>\n",
              "      <td>-0.221929</td>\n",
              "      <td>0.062723</td>\n",
              "      <td>0.061458</td>\n",
              "      <td>123.50</td>\n",
              "      <td>0</td>\n",
              "    </tr>\n",
              "    <tr>\n",
              "      <th>4</th>\n",
              "      <td>2.0</td>\n",
              "      <td>-1.158233</td>\n",
              "      <td>0.877737</td>\n",
              "      <td>1.548718</td>\n",
              "      <td>0.403034</td>\n",
              "      <td>-0.407193</td>\n",
              "      <td>0.095921</td>\n",
              "      <td>0.592941</td>\n",
              "      <td>-0.270533</td>\n",
              "      <td>0.817739</td>\n",
              "      <td>0.753074</td>\n",
              "      <td>-0.822843</td>\n",
              "      <td>0.538196</td>\n",
              "      <td>1.345852</td>\n",
              "      <td>-1.119670</td>\n",
              "      <td>0.175121</td>\n",
              "      <td>-0.451449</td>\n",
              "      <td>-0.237033</td>\n",
              "      <td>-0.038195</td>\n",
              "      <td>0.803487</td>\n",
              "      <td>0.408542</td>\n",
              "      <td>-0.009431</td>\n",
              "      <td>0.798278</td>\n",
              "      <td>-0.137458</td>\n",
              "      <td>0.141267</td>\n",
              "      <td>-0.206010</td>\n",
              "      <td>0.502292</td>\n",
              "      <td>0.219422</td>\n",
              "      <td>0.215153</td>\n",
              "      <td>69.99</td>\n",
              "      <td>0</td>\n",
              "    </tr>\n",
              "  </tbody>\n",
              "</table>\n",
              "</div>\n",
              "    <div class=\"colab-df-buttons\">\n",
              "\n",
              "  <div class=\"colab-df-container\">\n",
              "    <button class=\"colab-df-convert\" onclick=\"convertToInteractive('df-ae0ab4d4-5e2a-42de-8c41-32f2c8502ea6')\"\n",
              "            title=\"Convert this dataframe to an interactive table.\"\n",
              "            style=\"display:none;\">\n",
              "\n",
              "  <svg xmlns=\"http://www.w3.org/2000/svg\" height=\"24px\" viewBox=\"0 -960 960 960\">\n",
              "    <path d=\"M120-120v-720h720v720H120Zm60-500h600v-160H180v160Zm220 220h160v-160H400v160Zm0 220h160v-160H400v160ZM180-400h160v-160H180v160Zm440 0h160v-160H620v160ZM180-180h160v-160H180v160Zm440 0h160v-160H620v160Z\"/>\n",
              "  </svg>\n",
              "    </button>\n",
              "\n",
              "  <style>\n",
              "    .colab-df-container {\n",
              "      display:flex;\n",
              "      gap: 12px;\n",
              "    }\n",
              "\n",
              "    .colab-df-convert {\n",
              "      background-color: #E8F0FE;\n",
              "      border: none;\n",
              "      border-radius: 50%;\n",
              "      cursor: pointer;\n",
              "      display: none;\n",
              "      fill: #1967D2;\n",
              "      height: 32px;\n",
              "      padding: 0 0 0 0;\n",
              "      width: 32px;\n",
              "    }\n",
              "\n",
              "    .colab-df-convert:hover {\n",
              "      background-color: #E2EBFA;\n",
              "      box-shadow: 0px 1px 2px rgba(60, 64, 67, 0.3), 0px 1px 3px 1px rgba(60, 64, 67, 0.15);\n",
              "      fill: #174EA6;\n",
              "    }\n",
              "\n",
              "    .colab-df-buttons div {\n",
              "      margin-bottom: 4px;\n",
              "    }\n",
              "\n",
              "    [theme=dark] .colab-df-convert {\n",
              "      background-color: #3B4455;\n",
              "      fill: #D2E3FC;\n",
              "    }\n",
              "\n",
              "    [theme=dark] .colab-df-convert:hover {\n",
              "      background-color: #434B5C;\n",
              "      box-shadow: 0px 1px 3px 1px rgba(0, 0, 0, 0.15);\n",
              "      filter: drop-shadow(0px 1px 2px rgba(0, 0, 0, 0.3));\n",
              "      fill: #FFFFFF;\n",
              "    }\n",
              "  </style>\n",
              "\n",
              "    <script>\n",
              "      const buttonEl =\n",
              "        document.querySelector('#df-ae0ab4d4-5e2a-42de-8c41-32f2c8502ea6 button.colab-df-convert');\n",
              "      buttonEl.style.display =\n",
              "        google.colab.kernel.accessAllowed ? 'block' : 'none';\n",
              "\n",
              "      async function convertToInteractive(key) {\n",
              "        const element = document.querySelector('#df-ae0ab4d4-5e2a-42de-8c41-32f2c8502ea6');\n",
              "        const dataTable =\n",
              "          await google.colab.kernel.invokeFunction('convertToInteractive',\n",
              "                                                    [key], {});\n",
              "        if (!dataTable) return;\n",
              "\n",
              "        const docLinkHtml = 'Like what you see? Visit the ' +\n",
              "          '<a target=\"_blank\" href=https://colab.research.google.com/notebooks/data_table.ipynb>data table notebook</a>'\n",
              "          + ' to learn more about interactive tables.';\n",
              "        element.innerHTML = '';\n",
              "        dataTable['output_type'] = 'display_data';\n",
              "        await google.colab.output.renderOutput(dataTable, element);\n",
              "        const docLink = document.createElement('div');\n",
              "        docLink.innerHTML = docLinkHtml;\n",
              "        element.appendChild(docLink);\n",
              "      }\n",
              "    </script>\n",
              "  </div>\n",
              "\n",
              "\n",
              "<div id=\"df-0a8a338b-22fb-458f-9e54-990e1df69999\">\n",
              "  <button class=\"colab-df-quickchart\" onclick=\"quickchart('df-0a8a338b-22fb-458f-9e54-990e1df69999')\"\n",
              "            title=\"Suggest charts.\"\n",
              "            style=\"display:none;\">\n",
              "\n",
              "<svg xmlns=\"http://www.w3.org/2000/svg\" height=\"24px\"viewBox=\"0 0 24 24\"\n",
              "     width=\"24px\">\n",
              "    <g>\n",
              "        <path d=\"M19 3H5c-1.1 0-2 .9-2 2v14c0 1.1.9 2 2 2h14c1.1 0 2-.9 2-2V5c0-1.1-.9-2-2-2zM9 17H7v-7h2v7zm4 0h-2V7h2v10zm4 0h-2v-4h2v4z\"/>\n",
              "    </g>\n",
              "</svg>\n",
              "  </button>\n",
              "\n",
              "<style>\n",
              "  .colab-df-quickchart {\n",
              "      --bg-color: #E8F0FE;\n",
              "      --fill-color: #1967D2;\n",
              "      --hover-bg-color: #E2EBFA;\n",
              "      --hover-fill-color: #174EA6;\n",
              "      --disabled-fill-color: #AAA;\n",
              "      --disabled-bg-color: #DDD;\n",
              "  }\n",
              "\n",
              "  [theme=dark] .colab-df-quickchart {\n",
              "      --bg-color: #3B4455;\n",
              "      --fill-color: #D2E3FC;\n",
              "      --hover-bg-color: #434B5C;\n",
              "      --hover-fill-color: #FFFFFF;\n",
              "      --disabled-bg-color: #3B4455;\n",
              "      --disabled-fill-color: #666;\n",
              "  }\n",
              "\n",
              "  .colab-df-quickchart {\n",
              "    background-color: var(--bg-color);\n",
              "    border: none;\n",
              "    border-radius: 50%;\n",
              "    cursor: pointer;\n",
              "    display: none;\n",
              "    fill: var(--fill-color);\n",
              "    height: 32px;\n",
              "    padding: 0;\n",
              "    width: 32px;\n",
              "  }\n",
              "\n",
              "  .colab-df-quickchart:hover {\n",
              "    background-color: var(--hover-bg-color);\n",
              "    box-shadow: 0 1px 2px rgba(60, 64, 67, 0.3), 0 1px 3px 1px rgba(60, 64, 67, 0.15);\n",
              "    fill: var(--button-hover-fill-color);\n",
              "  }\n",
              "\n",
              "  .colab-df-quickchart-complete:disabled,\n",
              "  .colab-df-quickchart-complete:disabled:hover {\n",
              "    background-color: var(--disabled-bg-color);\n",
              "    fill: var(--disabled-fill-color);\n",
              "    box-shadow: none;\n",
              "  }\n",
              "\n",
              "  .colab-df-spinner {\n",
              "    border: 2px solid var(--fill-color);\n",
              "    border-color: transparent;\n",
              "    border-bottom-color: var(--fill-color);\n",
              "    animation:\n",
              "      spin 1s steps(1) infinite;\n",
              "  }\n",
              "\n",
              "  @keyframes spin {\n",
              "    0% {\n",
              "      border-color: transparent;\n",
              "      border-bottom-color: var(--fill-color);\n",
              "      border-left-color: var(--fill-color);\n",
              "    }\n",
              "    20% {\n",
              "      border-color: transparent;\n",
              "      border-left-color: var(--fill-color);\n",
              "      border-top-color: var(--fill-color);\n",
              "    }\n",
              "    30% {\n",
              "      border-color: transparent;\n",
              "      border-left-color: var(--fill-color);\n",
              "      border-top-color: var(--fill-color);\n",
              "      border-right-color: var(--fill-color);\n",
              "    }\n",
              "    40% {\n",
              "      border-color: transparent;\n",
              "      border-right-color: var(--fill-color);\n",
              "      border-top-color: var(--fill-color);\n",
              "    }\n",
              "    60% {\n",
              "      border-color: transparent;\n",
              "      border-right-color: var(--fill-color);\n",
              "    }\n",
              "    80% {\n",
              "      border-color: transparent;\n",
              "      border-right-color: var(--fill-color);\n",
              "      border-bottom-color: var(--fill-color);\n",
              "    }\n",
              "    90% {\n",
              "      border-color: transparent;\n",
              "      border-bottom-color: var(--fill-color);\n",
              "    }\n",
              "  }\n",
              "</style>\n",
              "\n",
              "  <script>\n",
              "    async function quickchart(key) {\n",
              "      const quickchartButtonEl =\n",
              "        document.querySelector('#' + key + ' button');\n",
              "      quickchartButtonEl.disabled = true;  // To prevent multiple clicks.\n",
              "      quickchartButtonEl.classList.add('colab-df-spinner');\n",
              "      try {\n",
              "        const charts = await google.colab.kernel.invokeFunction(\n",
              "            'suggestCharts', [key], {});\n",
              "      } catch (error) {\n",
              "        console.error('Error during call to suggestCharts:', error);\n",
              "      }\n",
              "      quickchartButtonEl.classList.remove('colab-df-spinner');\n",
              "      quickchartButtonEl.classList.add('colab-df-quickchart-complete');\n",
              "    }\n",
              "    (() => {\n",
              "      let quickchartButtonEl =\n",
              "        document.querySelector('#df-0a8a338b-22fb-458f-9e54-990e1df69999 button');\n",
              "      quickchartButtonEl.style.display =\n",
              "        google.colab.kernel.accessAllowed ? 'block' : 'none';\n",
              "    })();\n",
              "  </script>\n",
              "</div>\n",
              "    </div>\n",
              "  </div>\n"
            ]
          },
          "metadata": {},
          "execution_count": 4
        }
      ]
    },
    {
      "cell_type": "code",
      "source": [
        "# mostrar as últimas linhas do dataset\n",
        "transactions.tail()"
      ],
      "metadata": {
        "id": "6eQJxCU6iWtJ",
        "colab": {
          "base_uri": "https://localhost:8080/",
          "height": 226
        },
        "outputId": "ae082c05-7b4d-418d-aee1-e6093dabb255"
      },
      "execution_count": 5,
      "outputs": [
        {
          "output_type": "execute_result",
          "data": {
            "text/plain": [
              "            Time         V1         V2        V3        V4        V5  \\\n",
              "284802  172786.0 -11.881118  10.071785 -9.834783 -2.066656 -5.364473   \n",
              "284803  172787.0  -0.732789  -0.055080  2.035030 -0.738589  0.868229   \n",
              "284804  172788.0   1.919565  -0.301254 -3.249640 -0.557828  2.630515   \n",
              "284805  172788.0  -0.240440   0.530483  0.702510  0.689799 -0.377961   \n",
              "284806  172792.0  -0.533413  -0.189733  0.703337 -0.506271 -0.012546   \n",
              "\n",
              "              V6        V7        V8        V9       V10       V11       V12  \\\n",
              "284802 -2.606837 -4.918215  7.305334  1.914428  4.356170 -1.593105  2.711941   \n",
              "284803  1.058415  0.024330  0.294869  0.584800 -0.975926 -0.150189  0.915802   \n",
              "284804  3.031260 -0.296827  0.708417  0.432454 -0.484782  0.411614  0.063119   \n",
              "284805  0.623708 -0.686180  0.679145  0.392087 -0.399126 -1.933849 -0.962886   \n",
              "284806 -0.649617  1.577006 -0.414650  0.486180 -0.915427 -1.040458 -0.031513   \n",
              "\n",
              "             V13       V14       V15       V16       V17       V18       V19  \\\n",
              "284802 -0.689256  4.626942 -0.924459  1.107641  1.991691  0.510632 -0.682920   \n",
              "284803  1.214756 -0.675143  1.164931 -0.711757 -0.025693 -1.221179 -1.545556   \n",
              "284804 -0.183699 -0.510602  1.329284  0.140716  0.313502  0.395652 -0.577252   \n",
              "284805 -1.042082  0.449624  1.962563 -0.608577  0.509928  1.113981  2.897849   \n",
              "284806 -0.188093 -0.084316  0.041333 -0.302620 -0.660377  0.167430 -0.256117   \n",
              "\n",
              "             V20       V21       V22       V23       V24       V25       V26  \\\n",
              "284802  1.475829  0.213454  0.111864  1.014480 -0.509348  1.436807  0.250034   \n",
              "284803  0.059616  0.214205  0.924384  0.012463 -1.016226 -0.606624 -0.395255   \n",
              "284804  0.001396  0.232045  0.578229 -0.037501  0.640134  0.265745 -0.087371   \n",
              "284805  0.127434  0.265245  0.800049 -0.163298  0.123205 -0.569159  0.546668   \n",
              "284806  0.382948  0.261057  0.643078  0.376777  0.008797 -0.473649 -0.818267   \n",
              "\n",
              "             V27       V28  Amount  Class  \n",
              "284802  0.943651  0.823731    0.77      0  \n",
              "284803  0.068472 -0.053527   24.79      0  \n",
              "284804  0.004455 -0.026561   67.88      0  \n",
              "284805  0.108821  0.104533   10.00      0  \n",
              "284806 -0.002415  0.013649  217.00      0  "
            ],
            "text/html": [
              "\n",
              "  <div id=\"df-6677ff51-0c3e-43a3-9b50-864c9c32f033\" class=\"colab-df-container\">\n",
              "    <div>\n",
              "<style scoped>\n",
              "    .dataframe tbody tr th:only-of-type {\n",
              "        vertical-align: middle;\n",
              "    }\n",
              "\n",
              "    .dataframe tbody tr th {\n",
              "        vertical-align: top;\n",
              "    }\n",
              "\n",
              "    .dataframe thead th {\n",
              "        text-align: right;\n",
              "    }\n",
              "</style>\n",
              "<table border=\"1\" class=\"dataframe\">\n",
              "  <thead>\n",
              "    <tr style=\"text-align: right;\">\n",
              "      <th></th>\n",
              "      <th>Time</th>\n",
              "      <th>V1</th>\n",
              "      <th>V2</th>\n",
              "      <th>V3</th>\n",
              "      <th>V4</th>\n",
              "      <th>V5</th>\n",
              "      <th>V6</th>\n",
              "      <th>V7</th>\n",
              "      <th>V8</th>\n",
              "      <th>V9</th>\n",
              "      <th>V10</th>\n",
              "      <th>V11</th>\n",
              "      <th>V12</th>\n",
              "      <th>V13</th>\n",
              "      <th>V14</th>\n",
              "      <th>V15</th>\n",
              "      <th>V16</th>\n",
              "      <th>V17</th>\n",
              "      <th>V18</th>\n",
              "      <th>V19</th>\n",
              "      <th>V20</th>\n",
              "      <th>V21</th>\n",
              "      <th>V22</th>\n",
              "      <th>V23</th>\n",
              "      <th>V24</th>\n",
              "      <th>V25</th>\n",
              "      <th>V26</th>\n",
              "      <th>V27</th>\n",
              "      <th>V28</th>\n",
              "      <th>Amount</th>\n",
              "      <th>Class</th>\n",
              "    </tr>\n",
              "  </thead>\n",
              "  <tbody>\n",
              "    <tr>\n",
              "      <th>284802</th>\n",
              "      <td>172786.0</td>\n",
              "      <td>-11.881118</td>\n",
              "      <td>10.071785</td>\n",
              "      <td>-9.834783</td>\n",
              "      <td>-2.066656</td>\n",
              "      <td>-5.364473</td>\n",
              "      <td>-2.606837</td>\n",
              "      <td>-4.918215</td>\n",
              "      <td>7.305334</td>\n",
              "      <td>1.914428</td>\n",
              "      <td>4.356170</td>\n",
              "      <td>-1.593105</td>\n",
              "      <td>2.711941</td>\n",
              "      <td>-0.689256</td>\n",
              "      <td>4.626942</td>\n",
              "      <td>-0.924459</td>\n",
              "      <td>1.107641</td>\n",
              "      <td>1.991691</td>\n",
              "      <td>0.510632</td>\n",
              "      <td>-0.682920</td>\n",
              "      <td>1.475829</td>\n",
              "      <td>0.213454</td>\n",
              "      <td>0.111864</td>\n",
              "      <td>1.014480</td>\n",
              "      <td>-0.509348</td>\n",
              "      <td>1.436807</td>\n",
              "      <td>0.250034</td>\n",
              "      <td>0.943651</td>\n",
              "      <td>0.823731</td>\n",
              "      <td>0.77</td>\n",
              "      <td>0</td>\n",
              "    </tr>\n",
              "    <tr>\n",
              "      <th>284803</th>\n",
              "      <td>172787.0</td>\n",
              "      <td>-0.732789</td>\n",
              "      <td>-0.055080</td>\n",
              "      <td>2.035030</td>\n",
              "      <td>-0.738589</td>\n",
              "      <td>0.868229</td>\n",
              "      <td>1.058415</td>\n",
              "      <td>0.024330</td>\n",
              "      <td>0.294869</td>\n",
              "      <td>0.584800</td>\n",
              "      <td>-0.975926</td>\n",
              "      <td>-0.150189</td>\n",
              "      <td>0.915802</td>\n",
              "      <td>1.214756</td>\n",
              "      <td>-0.675143</td>\n",
              "      <td>1.164931</td>\n",
              "      <td>-0.711757</td>\n",
              "      <td>-0.025693</td>\n",
              "      <td>-1.221179</td>\n",
              "      <td>-1.545556</td>\n",
              "      <td>0.059616</td>\n",
              "      <td>0.214205</td>\n",
              "      <td>0.924384</td>\n",
              "      <td>0.012463</td>\n",
              "      <td>-1.016226</td>\n",
              "      <td>-0.606624</td>\n",
              "      <td>-0.395255</td>\n",
              "      <td>0.068472</td>\n",
              "      <td>-0.053527</td>\n",
              "      <td>24.79</td>\n",
              "      <td>0</td>\n",
              "    </tr>\n",
              "    <tr>\n",
              "      <th>284804</th>\n",
              "      <td>172788.0</td>\n",
              "      <td>1.919565</td>\n",
              "      <td>-0.301254</td>\n",
              "      <td>-3.249640</td>\n",
              "      <td>-0.557828</td>\n",
              "      <td>2.630515</td>\n",
              "      <td>3.031260</td>\n",
              "      <td>-0.296827</td>\n",
              "      <td>0.708417</td>\n",
              "      <td>0.432454</td>\n",
              "      <td>-0.484782</td>\n",
              "      <td>0.411614</td>\n",
              "      <td>0.063119</td>\n",
              "      <td>-0.183699</td>\n",
              "      <td>-0.510602</td>\n",
              "      <td>1.329284</td>\n",
              "      <td>0.140716</td>\n",
              "      <td>0.313502</td>\n",
              "      <td>0.395652</td>\n",
              "      <td>-0.577252</td>\n",
              "      <td>0.001396</td>\n",
              "      <td>0.232045</td>\n",
              "      <td>0.578229</td>\n",
              "      <td>-0.037501</td>\n",
              "      <td>0.640134</td>\n",
              "      <td>0.265745</td>\n",
              "      <td>-0.087371</td>\n",
              "      <td>0.004455</td>\n",
              "      <td>-0.026561</td>\n",
              "      <td>67.88</td>\n",
              "      <td>0</td>\n",
              "    </tr>\n",
              "    <tr>\n",
              "      <th>284805</th>\n",
              "      <td>172788.0</td>\n",
              "      <td>-0.240440</td>\n",
              "      <td>0.530483</td>\n",
              "      <td>0.702510</td>\n",
              "      <td>0.689799</td>\n",
              "      <td>-0.377961</td>\n",
              "      <td>0.623708</td>\n",
              "      <td>-0.686180</td>\n",
              "      <td>0.679145</td>\n",
              "      <td>0.392087</td>\n",
              "      <td>-0.399126</td>\n",
              "      <td>-1.933849</td>\n",
              "      <td>-0.962886</td>\n",
              "      <td>-1.042082</td>\n",
              "      <td>0.449624</td>\n",
              "      <td>1.962563</td>\n",
              "      <td>-0.608577</td>\n",
              "      <td>0.509928</td>\n",
              "      <td>1.113981</td>\n",
              "      <td>2.897849</td>\n",
              "      <td>0.127434</td>\n",
              "      <td>0.265245</td>\n",
              "      <td>0.800049</td>\n",
              "      <td>-0.163298</td>\n",
              "      <td>0.123205</td>\n",
              "      <td>-0.569159</td>\n",
              "      <td>0.546668</td>\n",
              "      <td>0.108821</td>\n",
              "      <td>0.104533</td>\n",
              "      <td>10.00</td>\n",
              "      <td>0</td>\n",
              "    </tr>\n",
              "    <tr>\n",
              "      <th>284806</th>\n",
              "      <td>172792.0</td>\n",
              "      <td>-0.533413</td>\n",
              "      <td>-0.189733</td>\n",
              "      <td>0.703337</td>\n",
              "      <td>-0.506271</td>\n",
              "      <td>-0.012546</td>\n",
              "      <td>-0.649617</td>\n",
              "      <td>1.577006</td>\n",
              "      <td>-0.414650</td>\n",
              "      <td>0.486180</td>\n",
              "      <td>-0.915427</td>\n",
              "      <td>-1.040458</td>\n",
              "      <td>-0.031513</td>\n",
              "      <td>-0.188093</td>\n",
              "      <td>-0.084316</td>\n",
              "      <td>0.041333</td>\n",
              "      <td>-0.302620</td>\n",
              "      <td>-0.660377</td>\n",
              "      <td>0.167430</td>\n",
              "      <td>-0.256117</td>\n",
              "      <td>0.382948</td>\n",
              "      <td>0.261057</td>\n",
              "      <td>0.643078</td>\n",
              "      <td>0.376777</td>\n",
              "      <td>0.008797</td>\n",
              "      <td>-0.473649</td>\n",
              "      <td>-0.818267</td>\n",
              "      <td>-0.002415</td>\n",
              "      <td>0.013649</td>\n",
              "      <td>217.00</td>\n",
              "      <td>0</td>\n",
              "    </tr>\n",
              "  </tbody>\n",
              "</table>\n",
              "</div>\n",
              "    <div class=\"colab-df-buttons\">\n",
              "\n",
              "  <div class=\"colab-df-container\">\n",
              "    <button class=\"colab-df-convert\" onclick=\"convertToInteractive('df-6677ff51-0c3e-43a3-9b50-864c9c32f033')\"\n",
              "            title=\"Convert this dataframe to an interactive table.\"\n",
              "            style=\"display:none;\">\n",
              "\n",
              "  <svg xmlns=\"http://www.w3.org/2000/svg\" height=\"24px\" viewBox=\"0 -960 960 960\">\n",
              "    <path d=\"M120-120v-720h720v720H120Zm60-500h600v-160H180v160Zm220 220h160v-160H400v160Zm0 220h160v-160H400v160ZM180-400h160v-160H180v160Zm440 0h160v-160H620v160ZM180-180h160v-160H180v160Zm440 0h160v-160H620v160Z\"/>\n",
              "  </svg>\n",
              "    </button>\n",
              "\n",
              "  <style>\n",
              "    .colab-df-container {\n",
              "      display:flex;\n",
              "      gap: 12px;\n",
              "    }\n",
              "\n",
              "    .colab-df-convert {\n",
              "      background-color: #E8F0FE;\n",
              "      border: none;\n",
              "      border-radius: 50%;\n",
              "      cursor: pointer;\n",
              "      display: none;\n",
              "      fill: #1967D2;\n",
              "      height: 32px;\n",
              "      padding: 0 0 0 0;\n",
              "      width: 32px;\n",
              "    }\n",
              "\n",
              "    .colab-df-convert:hover {\n",
              "      background-color: #E2EBFA;\n",
              "      box-shadow: 0px 1px 2px rgba(60, 64, 67, 0.3), 0px 1px 3px 1px rgba(60, 64, 67, 0.15);\n",
              "      fill: #174EA6;\n",
              "    }\n",
              "\n",
              "    .colab-df-buttons div {\n",
              "      margin-bottom: 4px;\n",
              "    }\n",
              "\n",
              "    [theme=dark] .colab-df-convert {\n",
              "      background-color: #3B4455;\n",
              "      fill: #D2E3FC;\n",
              "    }\n",
              "\n",
              "    [theme=dark] .colab-df-convert:hover {\n",
              "      background-color: #434B5C;\n",
              "      box-shadow: 0px 1px 3px 1px rgba(0, 0, 0, 0.15);\n",
              "      filter: drop-shadow(0px 1px 2px rgba(0, 0, 0, 0.3));\n",
              "      fill: #FFFFFF;\n",
              "    }\n",
              "  </style>\n",
              "\n",
              "    <script>\n",
              "      const buttonEl =\n",
              "        document.querySelector('#df-6677ff51-0c3e-43a3-9b50-864c9c32f033 button.colab-df-convert');\n",
              "      buttonEl.style.display =\n",
              "        google.colab.kernel.accessAllowed ? 'block' : 'none';\n",
              "\n",
              "      async function convertToInteractive(key) {\n",
              "        const element = document.querySelector('#df-6677ff51-0c3e-43a3-9b50-864c9c32f033');\n",
              "        const dataTable =\n",
              "          await google.colab.kernel.invokeFunction('convertToInteractive',\n",
              "                                                    [key], {});\n",
              "        if (!dataTable) return;\n",
              "\n",
              "        const docLinkHtml = 'Like what you see? Visit the ' +\n",
              "          '<a target=\"_blank\" href=https://colab.research.google.com/notebooks/data_table.ipynb>data table notebook</a>'\n",
              "          + ' to learn more about interactive tables.';\n",
              "        element.innerHTML = '';\n",
              "        dataTable['output_type'] = 'display_data';\n",
              "        await google.colab.output.renderOutput(dataTable, element);\n",
              "        const docLink = document.createElement('div');\n",
              "        docLink.innerHTML = docLinkHtml;\n",
              "        element.appendChild(docLink);\n",
              "      }\n",
              "    </script>\n",
              "  </div>\n",
              "\n",
              "\n",
              "<div id=\"df-0e1bae64-9177-4429-aaa9-62399d13deee\">\n",
              "  <button class=\"colab-df-quickchart\" onclick=\"quickchart('df-0e1bae64-9177-4429-aaa9-62399d13deee')\"\n",
              "            title=\"Suggest charts.\"\n",
              "            style=\"display:none;\">\n",
              "\n",
              "<svg xmlns=\"http://www.w3.org/2000/svg\" height=\"24px\"viewBox=\"0 0 24 24\"\n",
              "     width=\"24px\">\n",
              "    <g>\n",
              "        <path d=\"M19 3H5c-1.1 0-2 .9-2 2v14c0 1.1.9 2 2 2h14c1.1 0 2-.9 2-2V5c0-1.1-.9-2-2-2zM9 17H7v-7h2v7zm4 0h-2V7h2v10zm4 0h-2v-4h2v4z\"/>\n",
              "    </g>\n",
              "</svg>\n",
              "  </button>\n",
              "\n",
              "<style>\n",
              "  .colab-df-quickchart {\n",
              "      --bg-color: #E8F0FE;\n",
              "      --fill-color: #1967D2;\n",
              "      --hover-bg-color: #E2EBFA;\n",
              "      --hover-fill-color: #174EA6;\n",
              "      --disabled-fill-color: #AAA;\n",
              "      --disabled-bg-color: #DDD;\n",
              "  }\n",
              "\n",
              "  [theme=dark] .colab-df-quickchart {\n",
              "      --bg-color: #3B4455;\n",
              "      --fill-color: #D2E3FC;\n",
              "      --hover-bg-color: #434B5C;\n",
              "      --hover-fill-color: #FFFFFF;\n",
              "      --disabled-bg-color: #3B4455;\n",
              "      --disabled-fill-color: #666;\n",
              "  }\n",
              "\n",
              "  .colab-df-quickchart {\n",
              "    background-color: var(--bg-color);\n",
              "    border: none;\n",
              "    border-radius: 50%;\n",
              "    cursor: pointer;\n",
              "    display: none;\n",
              "    fill: var(--fill-color);\n",
              "    height: 32px;\n",
              "    padding: 0;\n",
              "    width: 32px;\n",
              "  }\n",
              "\n",
              "  .colab-df-quickchart:hover {\n",
              "    background-color: var(--hover-bg-color);\n",
              "    box-shadow: 0 1px 2px rgba(60, 64, 67, 0.3), 0 1px 3px 1px rgba(60, 64, 67, 0.15);\n",
              "    fill: var(--button-hover-fill-color);\n",
              "  }\n",
              "\n",
              "  .colab-df-quickchart-complete:disabled,\n",
              "  .colab-df-quickchart-complete:disabled:hover {\n",
              "    background-color: var(--disabled-bg-color);\n",
              "    fill: var(--disabled-fill-color);\n",
              "    box-shadow: none;\n",
              "  }\n",
              "\n",
              "  .colab-df-spinner {\n",
              "    border: 2px solid var(--fill-color);\n",
              "    border-color: transparent;\n",
              "    border-bottom-color: var(--fill-color);\n",
              "    animation:\n",
              "      spin 1s steps(1) infinite;\n",
              "  }\n",
              "\n",
              "  @keyframes spin {\n",
              "    0% {\n",
              "      border-color: transparent;\n",
              "      border-bottom-color: var(--fill-color);\n",
              "      border-left-color: var(--fill-color);\n",
              "    }\n",
              "    20% {\n",
              "      border-color: transparent;\n",
              "      border-left-color: var(--fill-color);\n",
              "      border-top-color: var(--fill-color);\n",
              "    }\n",
              "    30% {\n",
              "      border-color: transparent;\n",
              "      border-left-color: var(--fill-color);\n",
              "      border-top-color: var(--fill-color);\n",
              "      border-right-color: var(--fill-color);\n",
              "    }\n",
              "    40% {\n",
              "      border-color: transparent;\n",
              "      border-right-color: var(--fill-color);\n",
              "      border-top-color: var(--fill-color);\n",
              "    }\n",
              "    60% {\n",
              "      border-color: transparent;\n",
              "      border-right-color: var(--fill-color);\n",
              "    }\n",
              "    80% {\n",
              "      border-color: transparent;\n",
              "      border-right-color: var(--fill-color);\n",
              "      border-bottom-color: var(--fill-color);\n",
              "    }\n",
              "    90% {\n",
              "      border-color: transparent;\n",
              "      border-bottom-color: var(--fill-color);\n",
              "    }\n",
              "  }\n",
              "</style>\n",
              "\n",
              "  <script>\n",
              "    async function quickchart(key) {\n",
              "      const quickchartButtonEl =\n",
              "        document.querySelector('#' + key + ' button');\n",
              "      quickchartButtonEl.disabled = true;  // To prevent multiple clicks.\n",
              "      quickchartButtonEl.classList.add('colab-df-spinner');\n",
              "      try {\n",
              "        const charts = await google.colab.kernel.invokeFunction(\n",
              "            'suggestCharts', [key], {});\n",
              "      } catch (error) {\n",
              "        console.error('Error during call to suggestCharts:', error);\n",
              "      }\n",
              "      quickchartButtonEl.classList.remove('colab-df-spinner');\n",
              "      quickchartButtonEl.classList.add('colab-df-quickchart-complete');\n",
              "    }\n",
              "    (() => {\n",
              "      let quickchartButtonEl =\n",
              "        document.querySelector('#df-0e1bae64-9177-4429-aaa9-62399d13deee button');\n",
              "      quickchartButtonEl.style.display =\n",
              "        google.colab.kernel.accessAllowed ? 'block' : 'none';\n",
              "    })();\n",
              "  </script>\n",
              "</div>\n",
              "    </div>\n",
              "  </div>\n"
            ]
          },
          "metadata": {},
          "execution_count": 5
        }
      ]
    },
    {
      "cell_type": "markdown",
      "source": [
        "### Descrição dos dados\n",
        "De primeira vista, encontramos o dataset como descrito pela fonte. Agora vamos mais afundo, analisando o resumo estatítico dos dados e verificamos se há valores ausentes."
      ],
      "metadata": {
        "id": "WwggpVRzirCB"
      }
    },
    {
      "cell_type": "code",
      "source": [
        "# mostrar descrição estatística dos dados\n",
        "transactions.describe()"
      ],
      "metadata": {
        "id": "lCHZa8qOaMvF",
        "colab": {
          "base_uri": "https://localhost:8080/",
          "height": 320
        },
        "outputId": "1eaed652-5034-4788-8398-6aa3442929ed"
      },
      "execution_count": 6,
      "outputs": [
        {
          "output_type": "execute_result",
          "data": {
            "text/plain": [
              "                Time            V1            V2            V3            V4  \\\n",
              "count  284807.000000  2.848070e+05  2.848070e+05  2.848070e+05  2.848070e+05   \n",
              "mean    94813.859575  1.168375e-15  3.416908e-16 -1.379537e-15  2.074095e-15   \n",
              "std     47488.145955  1.958696e+00  1.651309e+00  1.516255e+00  1.415869e+00   \n",
              "min         0.000000 -5.640751e+01 -7.271573e+01 -4.832559e+01 -5.683171e+00   \n",
              "25%     54201.500000 -9.203734e-01 -5.985499e-01 -8.903648e-01 -8.486401e-01   \n",
              "50%     84692.000000  1.810880e-02  6.548556e-02  1.798463e-01 -1.984653e-02   \n",
              "75%    139320.500000  1.315642e+00  8.037239e-01  1.027196e+00  7.433413e-01   \n",
              "max    172792.000000  2.454930e+00  2.205773e+01  9.382558e+00  1.687534e+01   \n",
              "\n",
              "                 V5            V6            V7            V8            V9  \\\n",
              "count  2.848070e+05  2.848070e+05  2.848070e+05  2.848070e+05  2.848070e+05   \n",
              "mean   9.604066e-16  1.487313e-15 -5.556467e-16  1.213481e-16 -2.406331e-15   \n",
              "std    1.380247e+00  1.332271e+00  1.237094e+00  1.194353e+00  1.098632e+00   \n",
              "min   -1.137433e+02 -2.616051e+01 -4.355724e+01 -7.321672e+01 -1.343407e+01   \n",
              "25%   -6.915971e-01 -7.682956e-01 -5.540759e-01 -2.086297e-01 -6.430976e-01   \n",
              "50%   -5.433583e-02 -2.741871e-01  4.010308e-02  2.235804e-02 -5.142873e-02   \n",
              "75%    6.119264e-01  3.985649e-01  5.704361e-01  3.273459e-01  5.971390e-01   \n",
              "max    3.480167e+01  7.330163e+01  1.205895e+02  2.000721e+01  1.559499e+01   \n",
              "\n",
              "                V10           V11           V12           V13           V14  \\\n",
              "count  2.848070e+05  2.848070e+05  2.848070e+05  2.848070e+05  2.848070e+05   \n",
              "mean   2.239053e-15  1.673327e-15 -1.247012e-15  8.190001e-16  1.207294e-15   \n",
              "std    1.088850e+00  1.020713e+00  9.992014e-01  9.952742e-01  9.585956e-01   \n",
              "min   -2.458826e+01 -4.797473e+00 -1.868371e+01 -5.791881e+00 -1.921433e+01   \n",
              "25%   -5.354257e-01 -7.624942e-01 -4.055715e-01 -6.485393e-01 -4.255740e-01   \n",
              "50%   -9.291738e-02 -3.275735e-02  1.400326e-01 -1.356806e-02  5.060132e-02   \n",
              "75%    4.539234e-01  7.395934e-01  6.182380e-01  6.625050e-01  4.931498e-01   \n",
              "max    2.374514e+01  1.201891e+01  7.848392e+00  7.126883e+00  1.052677e+01   \n",
              "\n",
              "                V15           V16           V17           V18           V19  \\\n",
              "count  2.848070e+05  2.848070e+05  2.848070e+05  2.848070e+05  2.848070e+05   \n",
              "mean   4.887456e-15  1.437716e-15 -3.772171e-16  9.564149e-16  1.039917e-15   \n",
              "std    9.153160e-01  8.762529e-01  8.493371e-01  8.381762e-01  8.140405e-01   \n",
              "min   -4.498945e+00 -1.412985e+01 -2.516280e+01 -9.498746e+00 -7.213527e+00   \n",
              "25%   -5.828843e-01 -4.680368e-01 -4.837483e-01 -4.988498e-01 -4.562989e-01   \n",
              "50%    4.807155e-02  6.641332e-02 -6.567575e-02 -3.636312e-03  3.734823e-03   \n",
              "75%    6.488208e-01  5.232963e-01  3.996750e-01  5.008067e-01  4.589494e-01   \n",
              "max    8.877742e+00  1.731511e+01  9.253526e+00  5.041069e+00  5.591971e+00   \n",
              "\n",
              "                V20           V21           V22           V23           V24  \\\n",
              "count  2.848070e+05  2.848070e+05  2.848070e+05  2.848070e+05  2.848070e+05   \n",
              "mean   6.406204e-16  1.654067e-16 -3.568593e-16  2.578648e-16  4.473266e-15   \n",
              "std    7.709250e-01  7.345240e-01  7.257016e-01  6.244603e-01  6.056471e-01   \n",
              "min   -5.449772e+01 -3.483038e+01 -1.093314e+01 -4.480774e+01 -2.836627e+00   \n",
              "25%   -2.117214e-01 -2.283949e-01 -5.423504e-01 -1.618463e-01 -3.545861e-01   \n",
              "50%   -6.248109e-02 -2.945017e-02  6.781943e-03 -1.119293e-02  4.097606e-02   \n",
              "75%    1.330408e-01  1.863772e-01  5.285536e-01  1.476421e-01  4.395266e-01   \n",
              "max    3.942090e+01  2.720284e+01  1.050309e+01  2.252841e+01  4.584549e+00   \n",
              "\n",
              "                V25           V26           V27           V28         Amount  \\\n",
              "count  2.848070e+05  2.848070e+05  2.848070e+05  2.848070e+05  284807.000000   \n",
              "mean   5.340915e-16  1.683437e-15 -3.660091e-16 -1.227390e-16      88.349619   \n",
              "std    5.212781e-01  4.822270e-01  4.036325e-01  3.300833e-01     250.120109   \n",
              "min   -1.029540e+01 -2.604551e+00 -2.256568e+01 -1.543008e+01       0.000000   \n",
              "25%   -3.171451e-01 -3.269839e-01 -7.083953e-02 -5.295979e-02       5.600000   \n",
              "50%    1.659350e-02 -5.213911e-02  1.342146e-03  1.124383e-02      22.000000   \n",
              "75%    3.507156e-01  2.409522e-01  9.104512e-02  7.827995e-02      77.165000   \n",
              "max    7.519589e+00  3.517346e+00  3.161220e+01  3.384781e+01   25691.160000   \n",
              "\n",
              "               Class  \n",
              "count  284807.000000  \n",
              "mean        0.001727  \n",
              "std         0.041527  \n",
              "min         0.000000  \n",
              "25%         0.000000  \n",
              "50%         0.000000  \n",
              "75%         0.000000  \n",
              "max         1.000000  "
            ],
            "text/html": [
              "\n",
              "  <div id=\"df-73c35b66-346c-4eff-87ad-fda1b6d6382e\" class=\"colab-df-container\">\n",
              "    <div>\n",
              "<style scoped>\n",
              "    .dataframe tbody tr th:only-of-type {\n",
              "        vertical-align: middle;\n",
              "    }\n",
              "\n",
              "    .dataframe tbody tr th {\n",
              "        vertical-align: top;\n",
              "    }\n",
              "\n",
              "    .dataframe thead th {\n",
              "        text-align: right;\n",
              "    }\n",
              "</style>\n",
              "<table border=\"1\" class=\"dataframe\">\n",
              "  <thead>\n",
              "    <tr style=\"text-align: right;\">\n",
              "      <th></th>\n",
              "      <th>Time</th>\n",
              "      <th>V1</th>\n",
              "      <th>V2</th>\n",
              "      <th>V3</th>\n",
              "      <th>V4</th>\n",
              "      <th>V5</th>\n",
              "      <th>V6</th>\n",
              "      <th>V7</th>\n",
              "      <th>V8</th>\n",
              "      <th>V9</th>\n",
              "      <th>V10</th>\n",
              "      <th>V11</th>\n",
              "      <th>V12</th>\n",
              "      <th>V13</th>\n",
              "      <th>V14</th>\n",
              "      <th>V15</th>\n",
              "      <th>V16</th>\n",
              "      <th>V17</th>\n",
              "      <th>V18</th>\n",
              "      <th>V19</th>\n",
              "      <th>V20</th>\n",
              "      <th>V21</th>\n",
              "      <th>V22</th>\n",
              "      <th>V23</th>\n",
              "      <th>V24</th>\n",
              "      <th>V25</th>\n",
              "      <th>V26</th>\n",
              "      <th>V27</th>\n",
              "      <th>V28</th>\n",
              "      <th>Amount</th>\n",
              "      <th>Class</th>\n",
              "    </tr>\n",
              "  </thead>\n",
              "  <tbody>\n",
              "    <tr>\n",
              "      <th>count</th>\n",
              "      <td>284807.000000</td>\n",
              "      <td>2.848070e+05</td>\n",
              "      <td>2.848070e+05</td>\n",
              "      <td>2.848070e+05</td>\n",
              "      <td>2.848070e+05</td>\n",
              "      <td>2.848070e+05</td>\n",
              "      <td>2.848070e+05</td>\n",
              "      <td>2.848070e+05</td>\n",
              "      <td>2.848070e+05</td>\n",
              "      <td>2.848070e+05</td>\n",
              "      <td>2.848070e+05</td>\n",
              "      <td>2.848070e+05</td>\n",
              "      <td>2.848070e+05</td>\n",
              "      <td>2.848070e+05</td>\n",
              "      <td>2.848070e+05</td>\n",
              "      <td>2.848070e+05</td>\n",
              "      <td>2.848070e+05</td>\n",
              "      <td>2.848070e+05</td>\n",
              "      <td>2.848070e+05</td>\n",
              "      <td>2.848070e+05</td>\n",
              "      <td>2.848070e+05</td>\n",
              "      <td>2.848070e+05</td>\n",
              "      <td>2.848070e+05</td>\n",
              "      <td>2.848070e+05</td>\n",
              "      <td>2.848070e+05</td>\n",
              "      <td>2.848070e+05</td>\n",
              "      <td>2.848070e+05</td>\n",
              "      <td>2.848070e+05</td>\n",
              "      <td>2.848070e+05</td>\n",
              "      <td>284807.000000</td>\n",
              "      <td>284807.000000</td>\n",
              "    </tr>\n",
              "    <tr>\n",
              "      <th>mean</th>\n",
              "      <td>94813.859575</td>\n",
              "      <td>1.168375e-15</td>\n",
              "      <td>3.416908e-16</td>\n",
              "      <td>-1.379537e-15</td>\n",
              "      <td>2.074095e-15</td>\n",
              "      <td>9.604066e-16</td>\n",
              "      <td>1.487313e-15</td>\n",
              "      <td>-5.556467e-16</td>\n",
              "      <td>1.213481e-16</td>\n",
              "      <td>-2.406331e-15</td>\n",
              "      <td>2.239053e-15</td>\n",
              "      <td>1.673327e-15</td>\n",
              "      <td>-1.247012e-15</td>\n",
              "      <td>8.190001e-16</td>\n",
              "      <td>1.207294e-15</td>\n",
              "      <td>4.887456e-15</td>\n",
              "      <td>1.437716e-15</td>\n",
              "      <td>-3.772171e-16</td>\n",
              "      <td>9.564149e-16</td>\n",
              "      <td>1.039917e-15</td>\n",
              "      <td>6.406204e-16</td>\n",
              "      <td>1.654067e-16</td>\n",
              "      <td>-3.568593e-16</td>\n",
              "      <td>2.578648e-16</td>\n",
              "      <td>4.473266e-15</td>\n",
              "      <td>5.340915e-16</td>\n",
              "      <td>1.683437e-15</td>\n",
              "      <td>-3.660091e-16</td>\n",
              "      <td>-1.227390e-16</td>\n",
              "      <td>88.349619</td>\n",
              "      <td>0.001727</td>\n",
              "    </tr>\n",
              "    <tr>\n",
              "      <th>std</th>\n",
              "      <td>47488.145955</td>\n",
              "      <td>1.958696e+00</td>\n",
              "      <td>1.651309e+00</td>\n",
              "      <td>1.516255e+00</td>\n",
              "      <td>1.415869e+00</td>\n",
              "      <td>1.380247e+00</td>\n",
              "      <td>1.332271e+00</td>\n",
              "      <td>1.237094e+00</td>\n",
              "      <td>1.194353e+00</td>\n",
              "      <td>1.098632e+00</td>\n",
              "      <td>1.088850e+00</td>\n",
              "      <td>1.020713e+00</td>\n",
              "      <td>9.992014e-01</td>\n",
              "      <td>9.952742e-01</td>\n",
              "      <td>9.585956e-01</td>\n",
              "      <td>9.153160e-01</td>\n",
              "      <td>8.762529e-01</td>\n",
              "      <td>8.493371e-01</td>\n",
              "      <td>8.381762e-01</td>\n",
              "      <td>8.140405e-01</td>\n",
              "      <td>7.709250e-01</td>\n",
              "      <td>7.345240e-01</td>\n",
              "      <td>7.257016e-01</td>\n",
              "      <td>6.244603e-01</td>\n",
              "      <td>6.056471e-01</td>\n",
              "      <td>5.212781e-01</td>\n",
              "      <td>4.822270e-01</td>\n",
              "      <td>4.036325e-01</td>\n",
              "      <td>3.300833e-01</td>\n",
              "      <td>250.120109</td>\n",
              "      <td>0.041527</td>\n",
              "    </tr>\n",
              "    <tr>\n",
              "      <th>min</th>\n",
              "      <td>0.000000</td>\n",
              "      <td>-5.640751e+01</td>\n",
              "      <td>-7.271573e+01</td>\n",
              "      <td>-4.832559e+01</td>\n",
              "      <td>-5.683171e+00</td>\n",
              "      <td>-1.137433e+02</td>\n",
              "      <td>-2.616051e+01</td>\n",
              "      <td>-4.355724e+01</td>\n",
              "      <td>-7.321672e+01</td>\n",
              "      <td>-1.343407e+01</td>\n",
              "      <td>-2.458826e+01</td>\n",
              "      <td>-4.797473e+00</td>\n",
              "      <td>-1.868371e+01</td>\n",
              "      <td>-5.791881e+00</td>\n",
              "      <td>-1.921433e+01</td>\n",
              "      <td>-4.498945e+00</td>\n",
              "      <td>-1.412985e+01</td>\n",
              "      <td>-2.516280e+01</td>\n",
              "      <td>-9.498746e+00</td>\n",
              "      <td>-7.213527e+00</td>\n",
              "      <td>-5.449772e+01</td>\n",
              "      <td>-3.483038e+01</td>\n",
              "      <td>-1.093314e+01</td>\n",
              "      <td>-4.480774e+01</td>\n",
              "      <td>-2.836627e+00</td>\n",
              "      <td>-1.029540e+01</td>\n",
              "      <td>-2.604551e+00</td>\n",
              "      <td>-2.256568e+01</td>\n",
              "      <td>-1.543008e+01</td>\n",
              "      <td>0.000000</td>\n",
              "      <td>0.000000</td>\n",
              "    </tr>\n",
              "    <tr>\n",
              "      <th>25%</th>\n",
              "      <td>54201.500000</td>\n",
              "      <td>-9.203734e-01</td>\n",
              "      <td>-5.985499e-01</td>\n",
              "      <td>-8.903648e-01</td>\n",
              "      <td>-8.486401e-01</td>\n",
              "      <td>-6.915971e-01</td>\n",
              "      <td>-7.682956e-01</td>\n",
              "      <td>-5.540759e-01</td>\n",
              "      <td>-2.086297e-01</td>\n",
              "      <td>-6.430976e-01</td>\n",
              "      <td>-5.354257e-01</td>\n",
              "      <td>-7.624942e-01</td>\n",
              "      <td>-4.055715e-01</td>\n",
              "      <td>-6.485393e-01</td>\n",
              "      <td>-4.255740e-01</td>\n",
              "      <td>-5.828843e-01</td>\n",
              "      <td>-4.680368e-01</td>\n",
              "      <td>-4.837483e-01</td>\n",
              "      <td>-4.988498e-01</td>\n",
              "      <td>-4.562989e-01</td>\n",
              "      <td>-2.117214e-01</td>\n",
              "      <td>-2.283949e-01</td>\n",
              "      <td>-5.423504e-01</td>\n",
              "      <td>-1.618463e-01</td>\n",
              "      <td>-3.545861e-01</td>\n",
              "      <td>-3.171451e-01</td>\n",
              "      <td>-3.269839e-01</td>\n",
              "      <td>-7.083953e-02</td>\n",
              "      <td>-5.295979e-02</td>\n",
              "      <td>5.600000</td>\n",
              "      <td>0.000000</td>\n",
              "    </tr>\n",
              "    <tr>\n",
              "      <th>50%</th>\n",
              "      <td>84692.000000</td>\n",
              "      <td>1.810880e-02</td>\n",
              "      <td>6.548556e-02</td>\n",
              "      <td>1.798463e-01</td>\n",
              "      <td>-1.984653e-02</td>\n",
              "      <td>-5.433583e-02</td>\n",
              "      <td>-2.741871e-01</td>\n",
              "      <td>4.010308e-02</td>\n",
              "      <td>2.235804e-02</td>\n",
              "      <td>-5.142873e-02</td>\n",
              "      <td>-9.291738e-02</td>\n",
              "      <td>-3.275735e-02</td>\n",
              "      <td>1.400326e-01</td>\n",
              "      <td>-1.356806e-02</td>\n",
              "      <td>5.060132e-02</td>\n",
              "      <td>4.807155e-02</td>\n",
              "      <td>6.641332e-02</td>\n",
              "      <td>-6.567575e-02</td>\n",
              "      <td>-3.636312e-03</td>\n",
              "      <td>3.734823e-03</td>\n",
              "      <td>-6.248109e-02</td>\n",
              "      <td>-2.945017e-02</td>\n",
              "      <td>6.781943e-03</td>\n",
              "      <td>-1.119293e-02</td>\n",
              "      <td>4.097606e-02</td>\n",
              "      <td>1.659350e-02</td>\n",
              "      <td>-5.213911e-02</td>\n",
              "      <td>1.342146e-03</td>\n",
              "      <td>1.124383e-02</td>\n",
              "      <td>22.000000</td>\n",
              "      <td>0.000000</td>\n",
              "    </tr>\n",
              "    <tr>\n",
              "      <th>75%</th>\n",
              "      <td>139320.500000</td>\n",
              "      <td>1.315642e+00</td>\n",
              "      <td>8.037239e-01</td>\n",
              "      <td>1.027196e+00</td>\n",
              "      <td>7.433413e-01</td>\n",
              "      <td>6.119264e-01</td>\n",
              "      <td>3.985649e-01</td>\n",
              "      <td>5.704361e-01</td>\n",
              "      <td>3.273459e-01</td>\n",
              "      <td>5.971390e-01</td>\n",
              "      <td>4.539234e-01</td>\n",
              "      <td>7.395934e-01</td>\n",
              "      <td>6.182380e-01</td>\n",
              "      <td>6.625050e-01</td>\n",
              "      <td>4.931498e-01</td>\n",
              "      <td>6.488208e-01</td>\n",
              "      <td>5.232963e-01</td>\n",
              "      <td>3.996750e-01</td>\n",
              "      <td>5.008067e-01</td>\n",
              "      <td>4.589494e-01</td>\n",
              "      <td>1.330408e-01</td>\n",
              "      <td>1.863772e-01</td>\n",
              "      <td>5.285536e-01</td>\n",
              "      <td>1.476421e-01</td>\n",
              "      <td>4.395266e-01</td>\n",
              "      <td>3.507156e-01</td>\n",
              "      <td>2.409522e-01</td>\n",
              "      <td>9.104512e-02</td>\n",
              "      <td>7.827995e-02</td>\n",
              "      <td>77.165000</td>\n",
              "      <td>0.000000</td>\n",
              "    </tr>\n",
              "    <tr>\n",
              "      <th>max</th>\n",
              "      <td>172792.000000</td>\n",
              "      <td>2.454930e+00</td>\n",
              "      <td>2.205773e+01</td>\n",
              "      <td>9.382558e+00</td>\n",
              "      <td>1.687534e+01</td>\n",
              "      <td>3.480167e+01</td>\n",
              "      <td>7.330163e+01</td>\n",
              "      <td>1.205895e+02</td>\n",
              "      <td>2.000721e+01</td>\n",
              "      <td>1.559499e+01</td>\n",
              "      <td>2.374514e+01</td>\n",
              "      <td>1.201891e+01</td>\n",
              "      <td>7.848392e+00</td>\n",
              "      <td>7.126883e+00</td>\n",
              "      <td>1.052677e+01</td>\n",
              "      <td>8.877742e+00</td>\n",
              "      <td>1.731511e+01</td>\n",
              "      <td>9.253526e+00</td>\n",
              "      <td>5.041069e+00</td>\n",
              "      <td>5.591971e+00</td>\n",
              "      <td>3.942090e+01</td>\n",
              "      <td>2.720284e+01</td>\n",
              "      <td>1.050309e+01</td>\n",
              "      <td>2.252841e+01</td>\n",
              "      <td>4.584549e+00</td>\n",
              "      <td>7.519589e+00</td>\n",
              "      <td>3.517346e+00</td>\n",
              "      <td>3.161220e+01</td>\n",
              "      <td>3.384781e+01</td>\n",
              "      <td>25691.160000</td>\n",
              "      <td>1.000000</td>\n",
              "    </tr>\n",
              "  </tbody>\n",
              "</table>\n",
              "</div>\n",
              "    <div class=\"colab-df-buttons\">\n",
              "\n",
              "  <div class=\"colab-df-container\">\n",
              "    <button class=\"colab-df-convert\" onclick=\"convertToInteractive('df-73c35b66-346c-4eff-87ad-fda1b6d6382e')\"\n",
              "            title=\"Convert this dataframe to an interactive table.\"\n",
              "            style=\"display:none;\">\n",
              "\n",
              "  <svg xmlns=\"http://www.w3.org/2000/svg\" height=\"24px\" viewBox=\"0 -960 960 960\">\n",
              "    <path d=\"M120-120v-720h720v720H120Zm60-500h600v-160H180v160Zm220 220h160v-160H400v160Zm0 220h160v-160H400v160ZM180-400h160v-160H180v160Zm440 0h160v-160H620v160ZM180-180h160v-160H180v160Zm440 0h160v-160H620v160Z\"/>\n",
              "  </svg>\n",
              "    </button>\n",
              "\n",
              "  <style>\n",
              "    .colab-df-container {\n",
              "      display:flex;\n",
              "      gap: 12px;\n",
              "    }\n",
              "\n",
              "    .colab-df-convert {\n",
              "      background-color: #E8F0FE;\n",
              "      border: none;\n",
              "      border-radius: 50%;\n",
              "      cursor: pointer;\n",
              "      display: none;\n",
              "      fill: #1967D2;\n",
              "      height: 32px;\n",
              "      padding: 0 0 0 0;\n",
              "      width: 32px;\n",
              "    }\n",
              "\n",
              "    .colab-df-convert:hover {\n",
              "      background-color: #E2EBFA;\n",
              "      box-shadow: 0px 1px 2px rgba(60, 64, 67, 0.3), 0px 1px 3px 1px rgba(60, 64, 67, 0.15);\n",
              "      fill: #174EA6;\n",
              "    }\n",
              "\n",
              "    .colab-df-buttons div {\n",
              "      margin-bottom: 4px;\n",
              "    }\n",
              "\n",
              "    [theme=dark] .colab-df-convert {\n",
              "      background-color: #3B4455;\n",
              "      fill: #D2E3FC;\n",
              "    }\n",
              "\n",
              "    [theme=dark] .colab-df-convert:hover {\n",
              "      background-color: #434B5C;\n",
              "      box-shadow: 0px 1px 3px 1px rgba(0, 0, 0, 0.15);\n",
              "      filter: drop-shadow(0px 1px 2px rgba(0, 0, 0, 0.3));\n",
              "      fill: #FFFFFF;\n",
              "    }\n",
              "  </style>\n",
              "\n",
              "    <script>\n",
              "      const buttonEl =\n",
              "        document.querySelector('#df-73c35b66-346c-4eff-87ad-fda1b6d6382e button.colab-df-convert');\n",
              "      buttonEl.style.display =\n",
              "        google.colab.kernel.accessAllowed ? 'block' : 'none';\n",
              "\n",
              "      async function convertToInteractive(key) {\n",
              "        const element = document.querySelector('#df-73c35b66-346c-4eff-87ad-fda1b6d6382e');\n",
              "        const dataTable =\n",
              "          await google.colab.kernel.invokeFunction('convertToInteractive',\n",
              "                                                    [key], {});\n",
              "        if (!dataTable) return;\n",
              "\n",
              "        const docLinkHtml = 'Like what you see? Visit the ' +\n",
              "          '<a target=\"_blank\" href=https://colab.research.google.com/notebooks/data_table.ipynb>data table notebook</a>'\n",
              "          + ' to learn more about interactive tables.';\n",
              "        element.innerHTML = '';\n",
              "        dataTable['output_type'] = 'display_data';\n",
              "        await google.colab.output.renderOutput(dataTable, element);\n",
              "        const docLink = document.createElement('div');\n",
              "        docLink.innerHTML = docLinkHtml;\n",
              "        element.appendChild(docLink);\n",
              "      }\n",
              "    </script>\n",
              "  </div>\n",
              "\n",
              "\n",
              "<div id=\"df-6531dbad-6d92-4a23-af94-37fed76aa1b5\">\n",
              "  <button class=\"colab-df-quickchart\" onclick=\"quickchart('df-6531dbad-6d92-4a23-af94-37fed76aa1b5')\"\n",
              "            title=\"Suggest charts.\"\n",
              "            style=\"display:none;\">\n",
              "\n",
              "<svg xmlns=\"http://www.w3.org/2000/svg\" height=\"24px\"viewBox=\"0 0 24 24\"\n",
              "     width=\"24px\">\n",
              "    <g>\n",
              "        <path d=\"M19 3H5c-1.1 0-2 .9-2 2v14c0 1.1.9 2 2 2h14c1.1 0 2-.9 2-2V5c0-1.1-.9-2-2-2zM9 17H7v-7h2v7zm4 0h-2V7h2v10zm4 0h-2v-4h2v4z\"/>\n",
              "    </g>\n",
              "</svg>\n",
              "  </button>\n",
              "\n",
              "<style>\n",
              "  .colab-df-quickchart {\n",
              "      --bg-color: #E8F0FE;\n",
              "      --fill-color: #1967D2;\n",
              "      --hover-bg-color: #E2EBFA;\n",
              "      --hover-fill-color: #174EA6;\n",
              "      --disabled-fill-color: #AAA;\n",
              "      --disabled-bg-color: #DDD;\n",
              "  }\n",
              "\n",
              "  [theme=dark] .colab-df-quickchart {\n",
              "      --bg-color: #3B4455;\n",
              "      --fill-color: #D2E3FC;\n",
              "      --hover-bg-color: #434B5C;\n",
              "      --hover-fill-color: #FFFFFF;\n",
              "      --disabled-bg-color: #3B4455;\n",
              "      --disabled-fill-color: #666;\n",
              "  }\n",
              "\n",
              "  .colab-df-quickchart {\n",
              "    background-color: var(--bg-color);\n",
              "    border: none;\n",
              "    border-radius: 50%;\n",
              "    cursor: pointer;\n",
              "    display: none;\n",
              "    fill: var(--fill-color);\n",
              "    height: 32px;\n",
              "    padding: 0;\n",
              "    width: 32px;\n",
              "  }\n",
              "\n",
              "  .colab-df-quickchart:hover {\n",
              "    background-color: var(--hover-bg-color);\n",
              "    box-shadow: 0 1px 2px rgba(60, 64, 67, 0.3), 0 1px 3px 1px rgba(60, 64, 67, 0.15);\n",
              "    fill: var(--button-hover-fill-color);\n",
              "  }\n",
              "\n",
              "  .colab-df-quickchart-complete:disabled,\n",
              "  .colab-df-quickchart-complete:disabled:hover {\n",
              "    background-color: var(--disabled-bg-color);\n",
              "    fill: var(--disabled-fill-color);\n",
              "    box-shadow: none;\n",
              "  }\n",
              "\n",
              "  .colab-df-spinner {\n",
              "    border: 2px solid var(--fill-color);\n",
              "    border-color: transparent;\n",
              "    border-bottom-color: var(--fill-color);\n",
              "    animation:\n",
              "      spin 1s steps(1) infinite;\n",
              "  }\n",
              "\n",
              "  @keyframes spin {\n",
              "    0% {\n",
              "      border-color: transparent;\n",
              "      border-bottom-color: var(--fill-color);\n",
              "      border-left-color: var(--fill-color);\n",
              "    }\n",
              "    20% {\n",
              "      border-color: transparent;\n",
              "      border-left-color: var(--fill-color);\n",
              "      border-top-color: var(--fill-color);\n",
              "    }\n",
              "    30% {\n",
              "      border-color: transparent;\n",
              "      border-left-color: var(--fill-color);\n",
              "      border-top-color: var(--fill-color);\n",
              "      border-right-color: var(--fill-color);\n",
              "    }\n",
              "    40% {\n",
              "      border-color: transparent;\n",
              "      border-right-color: var(--fill-color);\n",
              "      border-top-color: var(--fill-color);\n",
              "    }\n",
              "    60% {\n",
              "      border-color: transparent;\n",
              "      border-right-color: var(--fill-color);\n",
              "    }\n",
              "    80% {\n",
              "      border-color: transparent;\n",
              "      border-right-color: var(--fill-color);\n",
              "      border-bottom-color: var(--fill-color);\n",
              "    }\n",
              "    90% {\n",
              "      border-color: transparent;\n",
              "      border-bottom-color: var(--fill-color);\n",
              "    }\n",
              "  }\n",
              "</style>\n",
              "\n",
              "  <script>\n",
              "    async function quickchart(key) {\n",
              "      const quickchartButtonEl =\n",
              "        document.querySelector('#' + key + ' button');\n",
              "      quickchartButtonEl.disabled = true;  // To prevent multiple clicks.\n",
              "      quickchartButtonEl.classList.add('colab-df-spinner');\n",
              "      try {\n",
              "        const charts = await google.colab.kernel.invokeFunction(\n",
              "            'suggestCharts', [key], {});\n",
              "      } catch (error) {\n",
              "        console.error('Error during call to suggestCharts:', error);\n",
              "      }\n",
              "      quickchartButtonEl.classList.remove('colab-df-spinner');\n",
              "      quickchartButtonEl.classList.add('colab-df-quickchart-complete');\n",
              "    }\n",
              "    (() => {\n",
              "      let quickchartButtonEl =\n",
              "        document.querySelector('#df-6531dbad-6d92-4a23-af94-37fed76aa1b5 button');\n",
              "      quickchartButtonEl.style.display =\n",
              "        google.colab.kernel.accessAllowed ? 'block' : 'none';\n",
              "    })();\n",
              "  </script>\n",
              "</div>\n",
              "    </div>\n",
              "  </div>\n"
            ]
          },
          "metadata": {},
          "execution_count": 6
        }
      ]
    },
    {
      "cell_type": "markdown",
      "source": [
        "As variáveis `[V1, V2, ..., V28]` parecem estar todas em uma esacala similar, oque faz sentido, já que é comum normalizar os dados antes de aplicar PCA. Apenas as variáveis `Time` e `Amount` estão em escalas muito diferentes das demais. Por isso teremos que escalonar essa duas variáveis antes de usá-las em nossos modelos de machine learning."
      ],
      "metadata": {
        "id": "tBHk4TbwaudW"
      }
    },
    {
      "cell_type": "code",
      "source": [
        "# mostrar as informações do dataset\n",
        "transactions.info()"
      ],
      "metadata": {
        "id": "E8FpTL-ri82f",
        "colab": {
          "base_uri": "https://localhost:8080/"
        },
        "outputId": "62edf31e-a216-416a-8736-e92060841a4f"
      },
      "execution_count": 7,
      "outputs": [
        {
          "output_type": "stream",
          "name": "stdout",
          "text": [
            "<class 'pandas.core.frame.DataFrame'>\n",
            "RangeIndex: 284807 entries, 0 to 284806\n",
            "Data columns (total 31 columns):\n",
            " #   Column  Non-Null Count   Dtype  \n",
            "---  ------  --------------   -----  \n",
            " 0   Time    284807 non-null  float64\n",
            " 1   V1      284807 non-null  float64\n",
            " 2   V2      284807 non-null  float64\n",
            " 3   V3      284807 non-null  float64\n",
            " 4   V4      284807 non-null  float64\n",
            " 5   V5      284807 non-null  float64\n",
            " 6   V6      284807 non-null  float64\n",
            " 7   V7      284807 non-null  float64\n",
            " 8   V8      284807 non-null  float64\n",
            " 9   V9      284807 non-null  float64\n",
            " 10  V10     284807 non-null  float64\n",
            " 11  V11     284807 non-null  float64\n",
            " 12  V12     284807 non-null  float64\n",
            " 13  V13     284807 non-null  float64\n",
            " 14  V14     284807 non-null  float64\n",
            " 15  V15     284807 non-null  float64\n",
            " 16  V16     284807 non-null  float64\n",
            " 17  V17     284807 non-null  float64\n",
            " 18  V18     284807 non-null  float64\n",
            " 19  V19     284807 non-null  float64\n",
            " 20  V20     284807 non-null  float64\n",
            " 21  V21     284807 non-null  float64\n",
            " 22  V22     284807 non-null  float64\n",
            " 23  V23     284807 non-null  float64\n",
            " 24  V24     284807 non-null  float64\n",
            " 25  V25     284807 non-null  float64\n",
            " 26  V26     284807 non-null  float64\n",
            " 27  V27     284807 non-null  float64\n",
            " 28  V28     284807 non-null  float64\n",
            " 29  Amount  284807 non-null  float64\n",
            " 30  Class   284807 non-null  int64  \n",
            "dtypes: float64(30), int64(1)\n",
            "memory usage: 67.4 MB\n"
          ]
        }
      ]
    },
    {
      "cell_type": "markdown",
      "source": [
        "Felizmente **não há valores ausentes**, podemos notar isso pois cada variável possuí o mesmo número de valores não nulos e de entradas do conjunto(no caso 284.807)."
      ],
      "metadata": {
        "id": "JRakIjiKjR7I"
      }
    },
    {
      "cell_type": "markdown",
      "source": [
        "### Balanceamento da variável alvo\n",
        "Como vimos anteriormente na descrição dos dados, existem **apenas 492 registros de fraudes** no dataset **de um total de 284.807 transações**. Ou seja, nossos **dados estão muito desbalanceados**(veja esta relação no gráfico abaixo). Por isso, **não podemos usar apenas a precisão como métrica** para avaliar nosso modelo, pois se ele classificar todas as transações como normais, ele teria a incrível precisão de 99.83%."
      ],
      "metadata": {
        "id": "JeYOtJUZj49Q"
      }
    },
    {
      "cell_type": "code",
      "source": [
        "# @title Gráfico de Balanceamento\n",
        "# pegar o total de transações normais e fraudulentas\n",
        "[normal_transactions, fraud_transactions] = transactions.Class.value_counts()\n",
        "\n",
        "# calcular a porcentagem de transações\n",
        "normal_transactions_ratio = normal_transactions / transactions.shape[0] * 100\n",
        "fraud_transactions_ratio = fraud_transactions / transactions.shape[0] * 100\n",
        "\n",
        "# alterar estilo da plotagem\n",
        "plt.style.use('seaborn-v0_8-dark')\n",
        "\n",
        "# criar uma figura para plotar\n",
        "fig, ax = plt.subplots(figsize=(6, 4))\n",
        "\n",
        "# plotar gráfico de barras para transções Normais e de Fraude\n",
        "ax.bar(['Normal', 'Fraude'], [normal_transactions, fraud_transactions])\n",
        "\n",
        "# adicionar título\n",
        "ax.set_title('Porcentagem de Transações',\n",
        "             fontsize=16,\n",
        "             fontweight='semibold',\n",
        "             color='#444')\n",
        "\n",
        "# alterar o tamanho da fonte do eixo x\n",
        "ax.set_xticks(['Normal', 'Fraude'])\n",
        "ax.set_xticklabels(ax.get_xticklabels(),\n",
        "                   fontsize=14,\n",
        "                   fontweight='semibold',\n",
        "                   color='#444')\n",
        "\n",
        "# adionar uma label vazia para aparecer a barra de Fraude\n",
        "ax.set_xlabel(' ')\n",
        "\n",
        "# remover os valores no eixo y\n",
        "ax.set_yticks([])\n",
        "\n",
        "# adicionar anotações\n",
        "ax.annotate(f'{round(normal_transactions_ratio, 2)}%',\n",
        "            ('Normal', normal_transactions),\n",
        "            xytext=(0, 8),\n",
        "            textcoords='offset points',\n",
        "            ha='center',\n",
        "            color='#717171',\n",
        "            fontsize=20,\n",
        "            fontweight='semibold')\n",
        "\n",
        "ax.annotate(f'{round(fraud_transactions_ratio, 2)}%',\n",
        "            ('Fraude', fraud_transactions),\n",
        "            xytext=(0, 8),\n",
        "            textcoords='offset points',\n",
        "            ha='center',\n",
        "            color='#717171',\n",
        "            fontsize=20,\n",
        "            fontweight='semibold')\n",
        "\n",
        "# aumentar o eixo y para comportar as anotações\n",
        "ax.set_ylim(0, normal_transactions + 48000)\n",
        "\n",
        "plt.tight_layout()"
      ],
      "metadata": {
        "id": "QMjfKA1zlBhm",
        "cellView": "form",
        "colab": {
          "base_uri": "https://localhost:8080/",
          "height": 407
        },
        "outputId": "e7028497-354e-4dbf-baab-40e1459f6cd8"
      },
      "execution_count": 8,
      "outputs": [
        {
          "output_type": "display_data",
          "data": {
            "text/plain": [
              "<Figure size 600x400 with 1 Axes>"
            ],
            "image/png": "[encoded data removed]"
          },
          "metadata": {}
        }
      ]
    },
    {
      "cell_type": "markdown",
      "source": [
        "### Distribuições\n",
        "\n",
        "Agora vamos dar uma olhada na distribuição da variável **`Amount`** e **`Time`** para quando a transação é **`Normal`** ou **`Fraude`**."
      ],
      "metadata": {
        "id": "4EAMYdSMPgh3"
      }
    },
    {
      "cell_type": "code",
      "source": [
        "# criar uma função para ajudar na plotagem\n",
        "def plot_variable_hist(transactions, variable):\n",
        "  # criar figura\n",
        "  fig, (ax0, ax1) = plt.subplots(nrows=1, ncols=2, figsize=(12, 4))\n",
        "\n",
        "  # histograma para transações normais\n",
        "  ax0.hist(transactions[transactions.Class == 0][variable])\n",
        "\n",
        "  # histograma para transações fraudulentas\n",
        "  ax1.hist(transactions[transactions.Class == 1][variable])\n",
        "\n",
        "  # adionar título\n",
        "  fig.suptitle(f'Distribuição da Variável {variable}', fontsize=20)\n",
        "\n",
        "  # adionar legendas\n",
        "  ax0.set_xlabel('Transações Normais', fontsize=16)\n",
        "  ax1.set_xlabel('Transações Fraudulentas', fontsize=16)\n",
        "\n",
        "  # mostrar gráficos\n",
        "  plt.tight_layout()"
      ],
      "metadata": {
        "id": "6t95-Qr2P7hi"
      },
      "execution_count": 9,
      "outputs": []
    },
    {
      "cell_type": "code",
      "source": [
        "# plotar histograma da variável Amount\n",
        "plot_variable_hist(transactions, 'Amount')"
      ],
      "metadata": {
        "id": "ka4BZpdUT2Cs",
        "colab": {
          "base_uri": "https://localhost:8080/",
          "height": 388
        },
        "outputId": "cf1c99f5-686c-46a8-a7e1-eb15ae3ad1b8"
      },
      "execution_count": 10,
      "outputs": [
        {
          "output_type": "display_data",
          "data": {
            "text/plain": [
              "<Figure size 1200x400 with 2 Axes>"
            ],
            "image/png": "[encoded data removed]"
          },
          "metadata": {}
        }
      ]
    },
    {
      "cell_type": "markdown",
      "source": [
        "Olhando para as distribuições da variável `Amount` acima, notamos que há presença de valores **`outliers`** nessa variável. Isso pode acabar afetando a performance de generalização de nosso modelo.\n",
        "\n",
        "Portanto, iremos fazer um tratamento dessa variável, antes de usá-la nos nossos modelos. Como não há muitos casos de fraudes, irei deixar essa variável intacta para esses casos, ou seja, irei modificar apenas as transações normais.\n",
        "\n",
        "**obs:** caso o desempenho do modelo fique muito abaixo do desejado, talves faça alguma transformação nas transações fraudulentas.\n",
        "\n",
        "---\n",
        "**`Nota`**: outliers são valores que se diferenciam demais dos outros valores.\n"
      ],
      "metadata": {
        "id": "JLoU1UQCUABu"
      }
    },
    {
      "cell_type": "code",
      "source": [
        "# plotar histograma da variável Time\n",
        "plot_variable_hist(transactions, 'Time')"
      ],
      "metadata": {
        "id": "cpF0gTZOXjIz",
        "colab": {
          "base_uri": "https://localhost:8080/",
          "height": 388
        },
        "outputId": "c2143f9b-af6f-4e63-c19b-f1d151c85420"
      },
      "execution_count": 11,
      "outputs": [
        {
          "output_type": "display_data",
          "data": {
            "text/plain": [
              "<Figure size 1200x400 with 2 Axes>"
            ],
            "image/png": "[encoded data removed]"
          },
          "metadata": {}
        }
      ]
    },
    {
      "cell_type": "markdown",
      "source": [
        "Já em relação à distribuição da variável `Time`, veja acima que os gráfico estão mais bem distribuidos(Perceba como para a variável `Amount` isso não ocorre). Isso é um grande indício de que não há valores `outliers` presentes. Portanto, vou deixar essa variável como está."
      ],
      "metadata": {
        "id": "W_fw10XxX61C"
      }
    },
    {
      "cell_type": "markdown",
      "source": [
        "### Relações\n",
        "\n",
        "Um último ponto para analisarmos antes de lidarmos com os outliers, é a relação entre as variáveis, é importante destacar, no entanto, que **relação é diferente de causa e efeito**. E nesse caso, estamos interessados em saber se existe alguma variável que colabora mais na detecção de fraude."
      ],
      "metadata": {
        "id": "u8oyoN5PHC1g"
      }
    },
    {
      "cell_type": "code",
      "source": [
        "# plotar gráfico de correlações\n",
        "corr_matrix = transactions.corr()\n",
        "sns.heatmap(corr_matrix, linewidth=.1, fmt='.2f',cmap=\"crest\")\n",
        "plt.show()\n",
        "\n",
        "# mostrar relação entre a variável Amount e Class\n",
        "print(\"Correlação entre Amount e Class:\", corr_matrix['Class']['Amount'])"
      ],
      "metadata": {
        "id": "H4r04Fr-Hw5f",
        "colab": {
          "base_uri": "https://localhost:8080/",
          "height": 468
        },
        "outputId": "39f7213a-afa2-4521-d592-cbc132665734"
      },
      "execution_count": 12,
      "outputs": [
        {
          "output_type": "display_data",
          "data": {
            "text/plain": [
              "<Figure size 640x480 with 2 Axes>"
            ],
            "image/png": "[encoded data removed]"
          },
          "metadata": {}
        },
        {
          "output_type": "stream",
          "name": "stdout",
          "text": [
            "Correlação entre Amount e Class: 0.005631753006768552\n"
          ]
        }
      ]
    },
    {
      "cell_type": "markdown",
      "source": [
        "No mapa de calor acima, quanto mais escuros os quadrados são, mais positiva é a correlação, e quanto mais claros, mais negativa. Se concentramos a nossa atenção na linha da nossa variável alvo, `Class`, podemos notar que há variáveis que possuem algum tipo de correlação com `Class`.\n",
        "\n",
        "**`obs:`** Note como a variável `Amount`, não possui muita correlação para prever se a transação é fraudulenta ou não. Veremos se conseguimos aumentar essa correlação após tratarmos dos outliers."
      ],
      "metadata": {
        "id": "llV6oxqrKCnC"
      }
    },
    {
      "cell_type": "markdown",
      "source": [
        "## Lidando com Outliers\n",
        "\n",
        "Agora que já fizemos uma análise inicial, podemos começar a tratar aqueles `outliers` da variável `Amount`.\n",
        "\n",
        "Para isso, usaremos a técnica do **IQR Score**. Essa técnica consiste em encontrar os outliers a partir desse score, o qual é calculado subtraindo-se o terceiro quartil do primeiro quartil. Calculado o score, podemos então definir um limite superior e inferior, que usamos de referência para detectar os outliers.\n",
        "\n",
        "Além disso podemos usar a visualização `Box Plot`, para visualizarmos melhor os outliers."
      ],
      "metadata": {
        "id": "WKIFW5KLYv8M"
      }
    },
    {
      "cell_type": "code",
      "source": [
        "# separar apenas os dados das transações normais\n",
        "normal_transactions_amount = transactions[transactions.Class == 0].Amount\n",
        "\n",
        "# plotar box plot\n",
        "print('Box plot antes de remover os outliers')\n",
        "normal_transactions_amount.plot(kind='box', vert=False, figsize=(15, 3))\n",
        "plt.show()\n",
        "\n",
        "# calcular o IQR Score\n",
        "amount_Q1, amount_Q3 = normal_transactions_amount.quantile([.25, .75])\n",
        "amount_IQR = amount_Q3 - amount_Q1\n",
        "\n",
        "# calcular limites inferior e superior\n",
        "amount_higher_limit = amount_Q3 + 1.5 * amount_IQR\n",
        "amount_lower_limit = amount_Q1 - 1.5 * amount_IQR\n",
        "\n",
        "print(f'IQR Score: {amount_IQR:.2f}')\n",
        "print(f'Limite superior: {amount_higher_limit:.2f}')\n",
        "print(f'Limite inferior: {amount_lower_limit:.2f}')\n",
        "\n",
        "# calcular quantos valores estão acima do limite superior\n",
        "values_beyond_higher_limit = (normal_transactions_amount > amount_higher_limit).sum()\n",
        "\n",
        "print('\\nValores acima do limite supeior:', values_beyond_higher_limit)\n",
        "print(f'Corresponde a {values_beyond_higher_limit / transactions.shape[0] * 100:.2f}% do dataset')"
      ],
      "metadata": {
        "id": "RnIdyg0baXEK",
        "colab": {
          "base_uri": "https://localhost:8080/",
          "height": 381
        },
        "outputId": "2378bc5a-b5ef-4a63-c085-df5882a99832"
      },
      "execution_count": 13,
      "outputs": [
        {
          "output_type": "stream",
          "name": "stdout",
          "text": [
            "Box plot antes de remover os outliers\n"
          ]
        },
        {
          "output_type": "display_data",
          "data": {
            "text/plain": [
              "<Figure size 1500x300 with 1 Axes>"
            ],
            "image/png": "[encoded data removed]"
          },
          "metadata": {}
        },
        {
          "output_type": "stream",
          "name": "stdout",
          "text": [
            "IQR Score: 71.40\n",
            "Limite superior: 184.15\n",
            "Limite inferior: -101.45\n",
            "\n",
            "Valores acima do limite supeior: 31862\n",
            "Corresponde a 11.19% do dataset\n"
          ]
        }
      ]
    },
    {
      "cell_type": "markdown",
      "source": [
        "Como os outliers correspondem a 11.19% do dataset, e temos muitos exemplos de transações normais, irei simplesmete remover todos os outliers. Para isso, primeiro criamos uma cópia de nosso dataset para mantermos os dados originais."
      ],
      "metadata": {
        "id": "MYhjl5VTeUwq"
      }
    },
    {
      "cell_type": "code",
      "source": [
        "# criar uma cópia do dataset\n",
        "transactions_clean = transactions.copy()\n",
        "\n",
        "transactions_before_cleaning = transactions_clean.shape[0]\n",
        "\n",
        "# remover os outliers\n",
        "transactions_clean.drop(normal_transactions_amount[\n",
        "                          normal_transactions_amount > amount_higher_limit\n",
        "                        ].index,\n",
        "                        axis=0,\n",
        "                        inplace=True)\n",
        "\n",
        "# mostrar a diferença\n",
        "print('Nº de transações antes:', transactions_before_cleaning)\n",
        "print('Nº de transações depois:', transactions_clean.shape[0])"
      ],
      "metadata": {
        "id": "t0ppvLshemRc",
        "colab": {
          "base_uri": "https://localhost:8080/"
        },
        "outputId": "b0d756f1-1641-49b3-81ec-dbf387583361"
      },
      "execution_count": 14,
      "outputs": [
        {
          "output_type": "stream",
          "name": "stdout",
          "text": [
            "Nº de transações antes: 284807\n",
            "Nº de transações depois: 252945\n"
          ]
        }
      ]
    },
    {
      "cell_type": "markdown",
      "source": [
        "Agora vejamos como ficou a distribuição e o box plot da variável `Amount` após essa limpeza."
      ],
      "metadata": {
        "id": "cs-sXF_Fgjer"
      }
    },
    {
      "cell_type": "code",
      "source": [
        "# plotar histograma da variável Amount\n",
        "plot_variable_hist(transactions_clean, 'Amount')"
      ],
      "metadata": {
        "id": "axAfviEXguJP",
        "colab": {
          "base_uri": "https://localhost:8080/",
          "height": 388
        },
        "outputId": "561a3994-6fe5-431b-9d2c-53799d8e9169"
      },
      "execution_count": 15,
      "outputs": [
        {
          "output_type": "display_data",
          "data": {
            "text/plain": [
              "<Figure size 1200x400 with 2 Axes>"
            ],
            "image/png": "[encoded data removed]"
          },
          "metadata": {}
        }
      ]
    },
    {
      "cell_type": "code",
      "source": [
        "# separar apenas os dados das transações normais\n",
        "normal_transactions_clean_amount = transactions_clean[transactions_clean.Class == 0].Amount\n",
        "\n",
        "# plotar box plot\n",
        "print('Box plot depois de remover os outliers')\n",
        "normal_transactions_clean_amount.plot(kind='box', vert=False, figsize=(15, 3))\n",
        "plt.show()"
      ],
      "metadata": {
        "id": "9yYHFGCthLjV",
        "colab": {
          "base_uri": "https://localhost:8080/",
          "height": 277
        },
        "outputId": "38b0f377-6b4c-4fe8-dc46-749269ba0d0c"
      },
      "execution_count": 16,
      "outputs": [
        {
          "output_type": "stream",
          "name": "stdout",
          "text": [
            "Box plot depois de remover os outliers\n"
          ]
        },
        {
          "output_type": "display_data",
          "data": {
            "text/plain": [
              "<Figure size 1500x300 with 1 Axes>"
            ],
            "image/png": "[encoded data removed]"
          },
          "metadata": {}
        }
      ]
    },
    {
      "cell_type": "markdown",
      "source": [
        "Perceba que agora, o histograma está mais bem distribuido e o box plot tem uma visualização melhor."
      ],
      "metadata": {
        "id": "DDIcEUAlhcnw"
      }
    },
    {
      "cell_type": "markdown",
      "source": [
        "### Analisando as correlações novamente\n",
        "\n",
        "Agora vejamos se fez alguma diferença em nossa matrix de correlações esta limpeza de outliers."
      ],
      "metadata": {
        "id": "L5j96Gz2OJCC"
      }
    },
    {
      "cell_type": "code",
      "source": [
        "# plotar gráfico de correlações nos dados limpos\n",
        "corr_matrix_clean = transactions_clean.corr()\n",
        "sns.heatmap(corr_matrix_clean, linewidth=.1, fmt='.2f', cmap=\"crest\")\n",
        "plt.show()\n",
        "\n",
        "# mostrar relação entre a variável Amount e Class para os dados limpos\n",
        "print(\"Correlação entre Amount e Class:\", corr_matrix_clean['Class']['Amount'])"
      ],
      "metadata": {
        "id": "WM1uIJ8fOZiy",
        "colab": {
          "base_uri": "https://localhost:8080/",
          "height": 468
        },
        "outputId": "5620b2ce-23a4-4695-ff10-5de492d149af"
      },
      "execution_count": 17,
      "outputs": [
        {
          "output_type": "display_data",
          "data": {
            "text/plain": [
              "<Figure size 640x480 with 2 Axes>"
            ],
            "image/png": "[encoded data removed]"
          },
          "metadata": {}
        },
        {
          "output_type": "stream",
          "name": "stdout",
          "text": [
            "Correlação entre Amount e Class: 0.08789384913254487\n"
          ]
        }
      ]
    },
    {
      "cell_type": "markdown",
      "source": [
        "Perceba como houve um aumento na correlação. Antes era de `0.005`, agora está em `0.087`(se reparar na escala do mapa de calor, verá que é um aumento considerável)."
      ],
      "metadata": {
        "id": "QObsq3JyOo3P"
      }
    },
    {
      "cell_type": "markdown",
      "source": [
        "## Criando o Modelo de Machine Learning\n",
        "\n",
        "Agora que nossos dados já foram limpos, podemos começar a preparar os dados para os modelos de machine leanring.\n",
        "\n",
        "#### Vamos seguir esses passos:\n",
        "1.   Separar a variável alvo das demais variáveis;\n",
        "2.   Separar os dados em dados de treino e de teste;\n",
        "3.   Esacalonar as variáveis `Amount` e `Time`;\n",
        "4.   Definir métricas de performance;\n",
        "5.   Testar diferentes modelos de Machine Learning;\n",
        "6.   Selecionar e melhorar os melhores modelos;\n",
        "7.   Selecionar um modelo final e testar nos dados de teste."
      ],
      "metadata": {
        "id": "kGcEL1sLiKg5"
      }
    },
    {
      "cell_type": "markdown",
      "source": [
        "### **1. Isolando a variável alvo**"
      ],
      "metadata": {
        "id": "RhyNDzIIXR5_"
      }
    },
    {
      "cell_type": "code",
      "source": [
        "# separar a variável alvo dos atributos\n",
        "X = transactions_clean.drop('Class', axis=1)\n",
        "y = transactions_clean['Class'].copy()\n",
        "\n",
        "# mostrar o shape de X e y\n",
        "print(\"X shape:\", X.shape)\n",
        "print(\"y shape:\", y.shape)"
      ],
      "metadata": {
        "id": "-Y0uCqzMQMg0",
        "colab": {
          "base_uri": "https://localhost:8080/"
        },
        "outputId": "a6627392-4014-4e72-ff88-18132454d1e7"
      },
      "execution_count": 18,
      "outputs": [
        {
          "output_type": "stream",
          "name": "stdout",
          "text": [
            "X shape: (252945, 30)\n",
            "y shape: (252945,)\n"
          ]
        }
      ]
    },
    {
      "cell_type": "markdown",
      "source": [
        "### **2. Separando os dados em treino e teste**\n",
        "\n",
        "Agora vamos separar os dados de treino e teste. Para deixar os dados equilibrados, irei separá-los de tal forma que mantenham a mesma proporção entre transações normais e fraudulentas no conjunto de treino e teste."
      ],
      "metadata": {
        "id": "65Gjnbg0SLW7"
      }
    },
    {
      "cell_type": "code",
      "source": [
        "# separar dados de treino e teste\n",
        "X_train, X_test, y_train, y_test = train_test_split(X, y,\n",
        "                                                    test_size=.2,\n",
        "                                                    stratify=y,\n",
        "                                                    random_state=42)\n",
        "\n",
        "# mostrar o shape do conjunto de treino e teste\n",
        "print(\"X_train shape:\", X_train.shape)\n",
        "print(\"y_train shape:\", y_train.shape)\n",
        "print(\"\\nX_test shape:\", X_test.shape)\n",
        "print(\"y_test shape:\", y_test.shape)\n",
        "\n",
        "# calcular proporções de casos de fraude\n",
        "train_fraud_ratio = (y_train == 1).sum() / y_train.shape[0]\n",
        "test_fraud_ratio = (y_test == 1).sum() / y_test.shape[0]\n",
        "\n",
        "# mostrar proporções de casos de fraude\n",
        "print('\\nProporção de fraudes no conjunto de treino: {:.2f}%'.format(train_fraud_ratio * 100))\n",
        "print('Proporção de fraudes no conjunto de teste: {:.2f}%'.format(test_fraud_ratio * 100))"
      ],
      "metadata": {
        "id": "PJDuFCJ4R60Y",
        "colab": {
          "base_uri": "https://localhost:8080/"
        },
        "outputId": "46889a09-3ca5-4a64-8818-2f4d4c39d374"
      },
      "execution_count": 19,
      "outputs": [
        {
          "output_type": "stream",
          "name": "stdout",
          "text": [
            "X_train shape: (202356, 30)\n",
            "y_train shape: (202356,)\n",
            "\n",
            "X_test shape: (50589, 30)\n",
            "y_test shape: (50589,)\n",
            "\n",
            "Proporção de fraudes no conjunto de treino: 0.19%\n",
            "Proporção de fraudes no conjunto de teste: 0.19%\n"
          ]
        }
      ]
    },
    {
      "cell_type": "markdown",
      "source": [
        "### **3. Escalonando as variáveis `Amount` e `Time`**\n",
        "\n",
        "Feita a divisão dos dados, não iremos mais tocar no conjunto de teste até o momento de avaliar o modelo final. Portanto, nosso trabalho irá se concentrar completamente nos dados de treino.\n",
        "\n",
        "Uma coisa que precisamos fazer, é colocar as variáveis `Time` e `Amount` dentro de uma escala, pois até o momento, seus valores estão em uma escala muito diferente das variáveis `[V1, V2, ..., V28]`, e isso pode afetar o desempho de nossos modelos de machine learning.\n",
        "\n",
        "Temos duas opções de escalonamento: normalização e padronização. A normalização limita os dados entre um limite minímo e máximo. Já a padronização não possui esses limites. Por simplicidade irei usar padronização, até porque as outras variáveis não parecem estar normalizadas(entre limites), sem falar que esta técnica é menos sensível a outliers."
      ],
      "metadata": {
        "id": "iXpN839jUpQd"
      }
    },
    {
      "cell_type": "code",
      "source": [
        "# escalonar apenas as colunas Amount e Time\n",
        "scaler = ColumnTransformer(\n",
        "    [(\"scaler\", StandardScaler(), ['Time', 'Amount'])],\n",
        "    remainder='passthrough'\n",
        "    )\n",
        "X_train_transformed = scaler.fit_transform(X_train)\n",
        "\n",
        "# mostrar shape dos dados transformados\n",
        "print(\"X_train_transformed shape:\", X_train_transformed.shape)\n",
        "print(\"\\nX_train_transformed valores:\\n\", X_train_transformed)"
      ],
      "metadata": {
        "id": "dQ98kY7uY6ql",
        "colab": {
          "base_uri": "https://localhost:8080/"
        },
        "outputId": "20edb40c-174f-45bd-af78-be181876d8d4"
      },
      "execution_count": 20,
      "outputs": [
        {
          "output_type": "stream",
          "name": "stdout",
          "text": [
            "X_train_transformed shape: (202356, 30)\n",
            "\n",
            "X_train_transformed valores:\n",
            " [[-3.57813053e-01 -7.76707565e-01  1.15936548e+00 ... -6.66794935e-01\n",
            "   9.19244215e-02  1.69521613e-02]\n",
            " [ 1.45637093e+00  2.45041256e+00  2.43315724e-02 ... -7.10090789e-01\n",
            "   4.84636433e-02 -1.33988274e-02]\n",
            " [ 1.36349591e+00 -5.15295351e-01 -2.14047825e-01 ...  1.22789454e-01\n",
            "   9.47190903e-02  2.03802370e-02]\n",
            " ...\n",
            " [ 1.17028476e+00 -6.85623170e-01  9.23846533e-02 ... -6.89587897e-01\n",
            "   1.09155571e-01  6.25652437e-02]\n",
            " [ 3.85670520e-01 -7.79212386e-01  2.06632618e+00 ...  1.74662493e-01\n",
            "  -5.78754091e-02 -3.04463698e-02]\n",
            " [ 6.15493639e-01 -6.59436406e-01  1.99374283e+00 ...  1.50570254e-03\n",
            "  -8.41517845e-02 -6.09949885e-02]]\n"
          ]
        }
      ]
    },
    {
      "cell_type": "markdown",
      "source": [
        "### **4. Definindo as Métricas**\n",
        "\n",
        "Chegamos a um ponto crucial: definir as métricas para avaliar nossos modelos. Temos que escolher as melhores métricas que funcionem para os dados que temos.\n",
        "\n",
        "Como disse anteriormente, usar a acurácia não é uma boa ideia em nossa situação, por causa do seguinte:\n",
        "* Os dados estão muito desbalanceados;\n",
        "* As transações normais representam 99.83% de todos os dados;\n",
        "* As transações fraudulentas representam apenas 0.17% de todos os dados.\n",
        "\n",
        "Ou seja, se testarmos nosso modelo em todos os dados, caso ele classifique todas as transações como normais, ele teria a incrível acurácia de 99.83%. E caso contrário, teria uma acurácia de 0.17%. Logo, devido ao desbalanceamento dos dados, essa métrica torna-se muito ruim.\n",
        "\n",
        "<br>\n",
        "\n",
        "---\n",
        "\n",
        "#### **Matriz de Confusão**\n",
        "Portanto, usaremos uma matriz de confusão para avaliar nossos modelos, pois a partir dela conseguimos extrair outras métricas.\n",
        "\n",
        "Basicamente uma matriz de confusão, é uma matriz como esta:\n",
        "\n",
        "$$\n",
        "\\begin{bmatrix}\n",
        "  PV & PF\\\\\n",
        "  NF & NV\n",
        "\\end{bmatrix}\n",
        "$$\n",
        "\n",
        "Onde:\n",
        "* **PV:** Positivos verdadeiros\n",
        "* **PF:** Positivos falsos\n",
        "* **NF:** Negativos falsos\n",
        "* **NV:** Negativos verdadeiros\n",
        "\n",
        "No nosso caso, os casos positivos são as transações fraudulentas e os casos negativos, as normais.\n",
        "\n",
        "Com essa matriz, conseguimos avaliar quantos casos nosso modelo preveu corretamente, e quantos erroneamente. E para facilitar, temos algumas métricas que podemos retirar dessa matriz, são elas:\n",
        "\n",
        "* **Precision** mede a proporção de previsões positivas corretas:\n",
        "\n",
        "$$\n",
        "\\frac{PV}{PV + PF}\n",
        "$$\n",
        "\n",
        "<br>\n",
        "\n",
        "* **Recall** mede a proporção de positivos classificados corretamente, considerando o total de todas as classificações que de fato são positivas:\n",
        "\n",
        "$$\n",
        "\\frac{PV}{PV + NF}\n",
        "$$\n",
        "\n",
        "<br>\n",
        "\n",
        "* **F1-score** combina `Precision` e `Recall`. Quanto maior o valor mais equilibrado estam a `Precision` e `Recall`:\n",
        "\n",
        "$$\n",
        "2 * \\frac{Precision * Recall}{Precision + Recall}\n",
        "$$\n",
        "\n",
        "<br>\n",
        "\n",
        "* **AUC** mostra o quão bom o modelo é em distinguir as classes. Como a fórmula não é simples, não vou colocá-la aqui.\n",
        "\n",
        "No nosso caso, um valor alto para precision significa que, de todas as instâncias detectadas como fraudulentas a maioria estava correta. Já um valor alto de recall, significa que nosso modelo consegue encontrar a maioria dos casos realmente fraudulentos. Oque queremos é um modelo que tenha um recall alto, pois queremos detectar o maior número de verdadeiras fraudes possível, porém isso pode nos custar uma precisão mais baixa, então caso seja possível iremos querer um modelo que não tenha uma precisão baixa, porque isso significaria que muitos clientes normais seriam encomodados por suspeita de fraude, ou seja queremos que o F1-score e AUC sejam altos.\n",
        "\n",
        "<br>\n",
        "\n",
        "---\n",
        "\n",
        "#### **Cross-validation**\n",
        "Além da matriz de confusão, também usaremos a validação cruzada (Cross-validation) para avaliar o quão bem nosso modelo consegue generalizar.\n",
        "\n",
        "Um problema ao treinar modelos de machine learning é que eles podem sofrer de **`overfitting`**, quando um modelo se sai bem nos dados de treino, mas mal nos dados novos não vistos antes, ou **`underfitting`**, quando o modelo se sai mal tanto nos dados de treino quanto nos dados novos.\n",
        "\n",
        "Para solucionar o underfitting, você pode tentar treinar mais o seu modelo. No entanto, se você treinar muito o seu modelo, ele pode sofrer de overfitting. É aí que podemos usar a cross-validation. Basicamente, essa técnica divide o nosso conjunto de treino em várias partes e, em seguida, treina o modelo com cada uma das partes individualmente e o testa com as partes que não foram usadas para treinamento. No final desse processo, podemos avaliar se nosso modelo está sofrendo de overfitting com base no desempenho de cada modelo treinado por meio dessa técnica.\n",
        "\n",
        "---\n",
        "\n",
        "#### **Undersampling**\n",
        "Como vimos anteriormente nossos dados estão extremamente desbalanceados, e isso pode afetar o desempenho de nossos modelos posteriormente, já que eles vão ter mais exemplos de oque não é fraude que exemplos de fraude. Por isso, convém utilizar uma técnica chamanda Undersampling(Subamostragem), que consiste em remover aleatoriamente exemplos da classe majoritária, no caso a classe com transações normais, para igualar o número de exemplos na classe minoritária. Dessa forma teremos um conjunto de treino mais balanceado e que, por conseqûencia, terá um treinamento mais rápido, por ter menos exemplos."
      ],
      "metadata": {
        "id": "UqSbS1s0eeFS"
      }
    },
    {
      "cell_type": "markdown",
      "source": [
        "#### Trantando o desbalanceamento\n",
        "\n",
        "Antes de testar os modelos, utilizaremos a técnica de undersampling. Para não ficarmos com poucos dados de treino, ao invés de igualar o número de intâncias normais e fraudulentas, iremos deixar que as instâncias normais fiquem com mais valores, continuando com um desbalanceamento, porém menos atenuado."
      ],
      "metadata": {
        "id": "_qxwGJ2Y5xaJ"
      }
    },
    {
      "cell_type": "code",
      "source": [
        "# aplicando undersampling nos dados de treino com estratégia igual a 0.3\n",
        "under_sampler = RandomUnderSampler(sampling_strategy=0.3, random_state=42)\n",
        "X_resampled, y_resampled = under_sampler.fit_resample(X_train_transformed, y_train)"
      ],
      "metadata": {
        "id": "9P35krnrCvY5"
      },
      "execution_count": 21,
      "outputs": []
    },
    {
      "cell_type": "code",
      "source": [
        "# verificar o shape de X_resampled e y_resampled\n",
        "print('X_resampled shape:', X_resampled.shape)\n",
        "print('y_resampled shape:', y_resampled.shape)\n",
        "\n",
        "resampled_total = y_resampled.shape[0]\n",
        "resampled_normal_count = sum(y_resampled == 0)\n",
        "resampled_fraud_count = sum(y_resampled == 1)\n",
        "\n",
        "# calculando o desbalanceamento final\n",
        "print('\\nInstâncias normais: {}({:.2f}%)'.format(\n",
        "    resampled_normal_count,\n",
        "    resampled_normal_count / resampled_total * 100))\n",
        "\n",
        "print('Instâncias fraudulentas: {}({:.2f}%)'.format(\n",
        "    resampled_fraud_count,\n",
        "    resampled_fraud_count / resampled_total * 100))"
      ],
      "metadata": {
        "id": "donDGn-06IC_",
        "colab": {
          "base_uri": "https://localhost:8080/"
        },
        "outputId": "2467092c-8e7a-4edc-c3ba-98c31296c83a"
      },
      "execution_count": 22,
      "outputs": [
        {
          "output_type": "stream",
          "name": "stdout",
          "text": [
            "X_resampled shape: (1707, 30)\n",
            "y_resampled shape: (1707,)\n",
            "\n",
            "Instâncias normais: 1313(76.92%)\n",
            "Instâncias fraudulentas: 394(23.08%)\n"
          ]
        }
      ]
    },
    {
      "cell_type": "markdown",
      "source": [
        "### **5. Testando diferentes modelos de Machine Learning**\n",
        "\n",
        "Nessa estapa, criarei uma função para me auxiliar a testar os diferentes modelos de classificação existente. Basicamente nossa função treinará o modelo que eu informar com os dados de treino e em seguida aplicará cross-validation e por fim mostrará as métricas definidas anteriormente.\n",
        "\n",
        "Vamos testar os seguintes modelos:\n",
        "*  **`Logistic Regression`**\n",
        "*  **`Support Vector Classification`**\n",
        "*  **`Gaussian Naive Bayes`**\n",
        "*  **`Random Forest Classifier`**"
      ],
      "metadata": {
        "id": "D9IOHHNXIyZt"
      }
    },
    {
      "cell_type": "code",
      "source": [
        "# função para auxiliar na avaliação dos modelos\n",
        "def evaluate_model(model, folds):\n",
        "\n",
        "  # treinar modelo\n",
        "  model.fit(X_resampled, y_resampled)\n",
        "  y_pred = model.predict(X_resampled)\n",
        "\n",
        "  # aplicar cross validation\n",
        "  val_y_pred = cross_val_predict(\n",
        "      model,\n",
        "      X_resampled,\n",
        "      y_resampled,\n",
        "      cv=StratifiedKFold(folds, shuffle=True, random_state=42), # manter as distribuições dos dados\n",
        "  )\n",
        "\n",
        "  # matriz de confusão\n",
        "  conf_mat = confusion_matrix(y_resampled, y_pred)\n",
        "  val_conf_mat = confusion_matrix(y_resampled, val_y_pred)\n",
        "\n",
        "  # mostrar matriz de confusão e métricas\n",
        "  print('Métricas de treino')\n",
        "\n",
        "  plt.figure(figsize=(2, 2))\n",
        "  sns.heatmap(conf_mat, square=True, annot=True, fmt='d', cbar=False)\n",
        "  plt.xlabel('Previsão do modelo')\n",
        "  plt.ylabel('Valor verdadeiro')\n",
        "\n",
        "  plt.show()\n",
        "\n",
        "  print(classification_report(\n",
        "      y_resampled,\n",
        "      y_pred,\n",
        "      target_names=['Normal', 'Fraud'], digits=5))\n",
        "\n",
        "  print('AUC:', roc_auc_score(y_resampled, y_pred))\n",
        "\n",
        "  print('\\n\\nMétricas de validação cruzada')\n",
        "\n",
        "  plt.figure(figsize=(2, 2))\n",
        "  sns.heatmap(val_conf_mat, square=True, annot=True, fmt='d', cbar=False)\n",
        "  plt.xlabel('Previsão do modelo')\n",
        "  plt.ylabel('Valor verdadeiro')\n",
        "\n",
        "  plt.show()\n",
        "\n",
        "  print(classification_report(\n",
        "      y_resampled,\n",
        "      val_y_pred,\n",
        "      target_names=['Normal', 'Fraud'], digits=5))\n",
        "\n",
        "  print('AUC:', roc_auc_score(y_resampled, val_y_pred))\n"
      ],
      "metadata": {
        "id": "29U09k0av0lO"
      },
      "execution_count": 23,
      "outputs": []
    },
    {
      "cell_type": "markdown",
      "source": [
        "#### Logistic Regression"
      ],
      "metadata": {
        "id": "xRgpjRwX6kXX"
      }
    },
    {
      "cell_type": "code",
      "source": [
        "evaluate_model(LogisticRegression(random_state=42), 5)"
      ],
      "metadata": {
        "id": "TY-i6wmhRP05",
        "colab": {
          "base_uri": "https://localhost:8080/",
          "height": 857
        },
        "outputId": "cab292bb-848a-4640-e25e-71fa24ddd842"
      },
      "execution_count": 24,
      "outputs": [
        {
          "output_type": "stream",
          "name": "stdout",
          "text": [
            "Métricas de treino\n"
          ]
        },
        {
          "output_type": "display_data",
          "data": {
            "text/plain": [
              "<Figure size 200x200 with 1 Axes>"
            ],
            "image/png": "[encoded data removed]"
          },
          "metadata": {}
        },
        {
          "output_type": "stream",
          "name": "stdout",
          "text": [
            "              precision    recall  f1-score   support\n",
            "\n",
            "      Normal    0.97829   0.99543   0.98679      1313\n",
            "       Fraud    0.98383   0.92640   0.95425       394\n",
            "\n",
            "    accuracy                        0.97950      1707\n",
            "   macro avg    0.98106   0.96091   0.97052      1707\n",
            "weighted avg    0.97957   0.97950   0.97928      1707\n",
            "\n",
            "AUC: 0.9609131256741449\n",
            "\n",
            "\n",
            "Métricas de validação cruzada\n"
          ]
        },
        {
          "output_type": "display_data",
          "data": {
            "text/plain": [
              "<Figure size 200x200 with 1 Axes>"
            ],
            "image/png": "[encoded data removed]"
          },
          "metadata": {}
        },
        {
          "output_type": "stream",
          "name": "stdout",
          "text": [
            "              precision    recall  f1-score   support\n",
            "\n",
            "      Normal    0.97601   0.99162   0.98376      1313\n",
            "       Fraud    0.97051   0.91878   0.94394       394\n",
            "\n",
            "    accuracy                        0.97481      1707\n",
            "   macro avg    0.97326   0.95520   0.96385      1707\n",
            "weighted avg    0.97474   0.97481   0.97456      1707\n",
            "\n",
            "AUC: 0.9552019825176582\n"
          ]
        }
      ]
    },
    {
      "cell_type": "markdown",
      "source": [
        "#### Support Vector Classification"
      ],
      "metadata": {
        "id": "O0svcg7hApXZ"
      }
    },
    {
      "cell_type": "code",
      "source": [
        "evaluate_model(SVC(random_state=42), 5)"
      ],
      "metadata": {
        "id": "GqNIE2OKA7i1",
        "colab": {
          "base_uri": "https://localhost:8080/",
          "height": 857
        },
        "outputId": "1065ef5c-e990-48a1-e068-101fd14b8525"
      },
      "execution_count": 25,
      "outputs": [
        {
          "output_type": "stream",
          "name": "stdout",
          "text": [
            "Métricas de treino\n"
          ]
        },
        {
          "output_type": "display_data",
          "data": {
            "text/plain": [
              "<Figure size 200x200 with 1 Axes>"
            ],
            "image/png": "[encoded data removed]"
          },
          "metadata": {}
        },
        {
          "output_type": "stream",
          "name": "stdout",
          "text": [
            "              precision    recall  f1-score   support\n",
            "\n",
            "      Normal    0.97257   0.99924   0.98573      1313\n",
            "       Fraud    0.99721   0.90609   0.94947       394\n",
            "\n",
            "    accuracy                        0.97774      1707\n",
            "   macro avg    0.98489   0.95266   0.96760      1707\n",
            "weighted avg    0.97826   0.97774   0.97736      1707\n",
            "\n",
            "AUC: 0.9526648779676874\n",
            "\n",
            "\n",
            "Métricas de validação cruzada\n"
          ]
        },
        {
          "output_type": "display_data",
          "data": {
            "text/plain": [
              "<Figure size 200x200 with 1 Axes>"
            ],
            "image/png": "[encoded data removed]"
          },
          "metadata": {}
        },
        {
          "output_type": "stream",
          "name": "stdout",
          "text": [
            "              precision    recall  f1-score   support\n",
            "\n",
            "      Normal    0.96893   0.99772   0.98311      1313\n",
            "       Fraud    0.99155   0.89340   0.93992       394\n",
            "\n",
            "    accuracy                        0.97364      1707\n",
            "   macro avg    0.98024   0.94556   0.96152      1707\n",
            "weighted avg    0.97415   0.97364   0.97314      1707\n",
            "\n",
            "AUC: 0.945558085679712\n"
          ]
        }
      ]
    },
    {
      "cell_type": "markdown",
      "source": [
        "#### Gaussian Naive Bayes"
      ],
      "metadata": {
        "id": "sb2ykTzN6uMS"
      }
    },
    {
      "cell_type": "code",
      "source": [
        "evaluate_model(GaussianNB(), 5)"
      ],
      "metadata": {
        "id": "ucPgnzlPzs3C",
        "colab": {
          "base_uri": "https://localhost:8080/",
          "height": 857
        },
        "outputId": "c1862572-b41f-4b74-cab4-469592d0fde7"
      },
      "execution_count": 26,
      "outputs": [
        {
          "output_type": "stream",
          "name": "stdout",
          "text": [
            "Métricas de treino\n"
          ]
        },
        {
          "output_type": "display_data",
          "data": {
            "text/plain": [
              "<Figure size 200x200 with 1 Axes>"
            ],
            "image/png": "[encoded data removed]"
          },
          "metadata": {}
        },
        {
          "output_type": "stream",
          "name": "stdout",
          "text": [
            "              precision    recall  f1-score   support\n",
            "\n",
            "      Normal    0.96185   0.97944   0.97057      1313\n",
            "       Fraud    0.92703   0.87056   0.89791       394\n",
            "\n",
            "    accuracy                        0.95431      1707\n",
            "   macro avg    0.94444   0.92500   0.93424      1707\n",
            "weighted avg    0.95382   0.95431   0.95380      1707\n",
            "\n",
            "AUC: 0.9249973904067486\n",
            "\n",
            "\n",
            "Métricas de validação cruzada\n"
          ]
        },
        {
          "output_type": "display_data",
          "data": {
            "text/plain": [
              "<Figure size 200x200 with 1 Axes>"
            ],
            "image/png": "[encoded data removed]"
          },
          "metadata": {}
        },
        {
          "output_type": "stream",
          "name": "stdout",
          "text": [
            "              precision    recall  f1-score   support\n",
            "\n",
            "      Normal    0.96185   0.97944   0.97057      1313\n",
            "       Fraud    0.92703   0.87056   0.89791       394\n",
            "\n",
            "    accuracy                        0.95431      1707\n",
            "   macro avg    0.94444   0.92500   0.93424      1707\n",
            "weighted avg    0.95382   0.95431   0.95380      1707\n",
            "\n",
            "AUC: 0.9249973904067486\n"
          ]
        }
      ]
    },
    {
      "cell_type": "markdown",
      "source": [
        "#### Random Forest Classifier"
      ],
      "metadata": {
        "id": "HRTJfFSd637B"
      }
    },
    {
      "cell_type": "code",
      "source": [
        "evaluate_model(RandomForestClassifier(random_state=42), 5)"
      ],
      "metadata": {
        "id": "aF2uPq5DzzKq",
        "colab": {
          "base_uri": "https://localhost:8080/",
          "height": 857
        },
        "outputId": "29427fb8-bd2a-4d62-aa5a-ad2d175ecef0"
      },
      "execution_count": 27,
      "outputs": [
        {
          "output_type": "stream",
          "name": "stdout",
          "text": [
            "Métricas de treino\n"
          ]
        },
        {
          "output_type": "display_data",
          "data": {
            "text/plain": [
              "<Figure size 200x200 with 1 Axes>"
            ],
            "image/png": "[encoded data removed]"
          },
          "metadata": {}
        },
        {
          "output_type": "stream",
          "name": "stdout",
          "text": [
            "              precision    recall  f1-score   support\n",
            "\n",
            "      Normal    1.00000   1.00000   1.00000      1313\n",
            "       Fraud    1.00000   1.00000   1.00000       394\n",
            "\n",
            "    accuracy                        1.00000      1707\n",
            "   macro avg    1.00000   1.00000   1.00000      1707\n",
            "weighted avg    1.00000   1.00000   1.00000      1707\n",
            "\n",
            "AUC: 1.0\n",
            "\n",
            "\n",
            "Métricas de validação cruzada\n"
          ]
        },
        {
          "output_type": "display_data",
          "data": {
            "text/plain": [
              "<Figure size 200x200 with 1 Axes>"
            ],
            "image/png": "[encoded data removed]"
          },
          "metadata": {}
        },
        {
          "output_type": "stream",
          "name": "stdout",
          "text": [
            "              precision    recall  f1-score   support\n",
            "\n",
            "      Normal    0.97321   0.99619   0.98457      1313\n",
            "       Fraud    0.98623   0.90863   0.94584       394\n",
            "\n",
            "    accuracy                        0.97598      1707\n",
            "   macro avg    0.97972   0.95241   0.96520      1707\n",
            "weighted avg    0.97622   0.97598   0.97563      1707\n",
            "\n",
            "AUC: 0.9524106842546808\n"
          ]
        }
      ]
    },
    {
      "cell_type": "markdown",
      "source": [
        "#### **Considerações**\n",
        "\n",
        "Segue as considerações sobre cada modelo:\n",
        "\n",
        "* **Logistic Regression**\n",
        "\n",
        "    Esse modelo está **entre os melhores** que foram testados, pois além de não haver indícios de overfitting(as métricas de treino e validção são bastante semelhantes), ele ainda apresenta um ótimo **recall de 0.92**.\n",
        "\n",
        "<br>\n",
        "\n",
        "* **Support Vector Classification**\n",
        "\n",
        "    Esse modelo não tem indícios de overfitting e possuí métricas legais(não são as melhores). **Talvez com parâmetros diferentes tenha alguma melhora**.\n",
        "\n",
        "<br>\n",
        "\n",
        "* **Gaussian Naive Bayes**\n",
        "\n",
        "    Esse modelo não apresenta indícios de overfitting, contudo, é o que apresenta **menor recall(0.87)**, que é prioridade como discutido anteriormente, por isso não pretendo continuar com ele.\n",
        "\n",
        "<br>\n",
        "\n",
        "* **Random Forest Classifier**\n",
        "\n",
        "    Este modelo, de longe, é o com **mais overfitting**, pois ele performa com métricas 1.0 nos dados de treino, porém isso não se replica nos dados de validação(apesar de ainda ter métricas boas). Contudo, esse modelo possui **diversos ajustes que podem melhorar** sua performance.\n",
        "\n",
        "<br>\n",
        "\n",
        "Feitas as considerações, vamos presseguir com os modelos: `Logistic Regression`, `Support Vector Classification` e `Random Forest Classifier`."
      ],
      "metadata": {
        "id": "Y24BZVJtEU3E"
      }
    },
    {
      "cell_type": "markdown",
      "source": [
        "### **6. Melhorando os Modelos**\n",
        "\n",
        "Nesta etapa iremos buscar encontrar os melhores hipreparâmetros para os modelos que selecionamos na etapa anterior. Buscamos métricas melhores evitando overfitting e ao final selecionaremos o melhor modelo. Para ajudar a encontrar esses parâmetros usaremos uma técnica chamada Grid Search, que testa diferentes conbinações de parâmetros que definirmos e avalia a melhor combinação. Contudo, essa técnica exige uma métrica de score para avaliar o melhor modelo, e como queremos um modelo com alto recall, mas que não tenha uma precisão tão baixa, ou seja queremos que nosso modelo distingua bem entre `Fraude` e `Normal`, portanto a métrica utilizada será AUC."
      ],
      "metadata": {
        "id": "F4iV0TG7hjrj"
      }
    },
    {
      "cell_type": "code",
      "source": [
        "# função para avaliar o tuning do modelo\n",
        "def evaluate_model_tuning(model, grid_search):\n",
        "  search = GridSearchCV(\n",
        "    model,\n",
        "    grid_search,\n",
        "    scoring='roc_auc',\n",
        "    cv=StratifiedKFold(5, shuffle=True, random_state=42), # manter a distribuição dos dados\n",
        "    n_jobs=-1)\n",
        "\n",
        "  search.fit(X_resampled, y_resampled)\n",
        "\n",
        "  print('Melhor:', search.best_params_)\n",
        "\n",
        "  evaluate_model(clone(search.best_estimator_), 5)\n",
        "\n",
        "  return search"
      ],
      "metadata": {
        "id": "md4NeH9eKDZ4"
      },
      "execution_count": 28,
      "outputs": []
    },
    {
      "cell_type": "markdown",
      "source": [
        "#### Afinando Logistic Regression"
      ],
      "metadata": {
        "id": "ZUTOQRocivlK"
      }
    },
    {
      "cell_type": "code",
      "source": [
        "# definir os parâmetros para testar\n",
        "lr_param_grid = [\n",
        "    {\n",
        "      'C' : [0.1, 0.2, 0.5, 1.0, 5.0],\n",
        "      'solver' : ['lbfgs', 'newton-cg', 'sag'],\n",
        "      'class_weight' : [None, 'balanced']\n",
        "    },\n",
        "    {\n",
        "      'C' : [0.1, 0.2, 0.5, 1.0, 5.0],\n",
        "      'solver' : ['liblinear'],\n",
        "      'penalty' : ['l1', 'l2'],\n",
        "      'class_weight' : [None, 'balanced']\n",
        "    }\n",
        "]\n",
        "\n",
        "# avaliar o modelo\n",
        "lr_search = evaluate_model_tuning(LogisticRegression(random_state=42), lr_param_grid)"
      ],
      "metadata": {
        "id": "YiPKH-SsjVCc",
        "colab": {
          "base_uri": "https://localhost:8080/",
          "height": 875
        },
        "outputId": "992e30ad-a410-4bfc-ba2e-2592f171d3c0"
      },
      "execution_count": 29,
      "outputs": [
        {
          "output_type": "stream",
          "name": "stdout",
          "text": [
            "Melhor: {'C': 0.1, 'class_weight': 'balanced', 'penalty': 'l1', 'solver': 'liblinear'}\n",
            "Métricas de treino\n"
          ]
        },
        {
          "output_type": "display_data",
          "data": {
            "text/plain": [
              "<Figure size 200x200 with 1 Axes>"
            ],
            "image/png": "[encoded data removed]"
          },
          "metadata": {}
        },
        {
          "output_type": "stream",
          "name": "stdout",
          "text": [
            "              precision    recall  f1-score   support\n",
            "\n",
            "      Normal    0.98244   0.98020   0.98132      1313\n",
            "       Fraud    0.93451   0.94162   0.93805       394\n",
            "\n",
            "    accuracy                        0.97129      1707\n",
            "   macro avg    0.95848   0.96091   0.95969      1707\n",
            "weighted avg    0.97138   0.97129   0.97133      1707\n",
            "\n",
            "AUC: 0.9609111926421069\n",
            "\n",
            "\n",
            "Métricas de validação cruzada\n"
          ]
        },
        {
          "output_type": "display_data",
          "data": {
            "text/plain": [
              "<Figure size 200x200 with 1 Axes>"
            ],
            "image/png": "[encoded data removed]"
          },
          "metadata": {}
        },
        {
          "output_type": "stream",
          "name": "stdout",
          "text": [
            "              precision    recall  f1-score   support\n",
            "\n",
            "      Normal    0.98089   0.97715   0.97902      1313\n",
            "       Fraud    0.92481   0.93655   0.93064       394\n",
            "\n",
            "    accuracy                        0.96778      1707\n",
            "   macro avg    0.95285   0.95685   0.95483      1707\n",
            "weighted avg    0.96794   0.96778   0.96785      1707\n",
            "\n",
            "AUC: 0.9568498923301155\n"
          ]
        }
      ]
    },
    {
      "cell_type": "markdown",
      "source": [
        "#### Afinando Support Vector Classification"
      ],
      "metadata": {
        "id": "MSBtbV_Iirkk"
      }
    },
    {
      "cell_type": "code",
      "source": [
        "# definir os parâmetros para testar\n",
        "svc_param_grid = {\n",
        "    'C' : [0.1, 0.5, 1.0],\n",
        "    'kernel' : ['linear', 'poly', 'rbf', 'sigmoid'],\n",
        "    'degree' : [1, 2, 3],\n",
        "    'gamma' : ['scale', 'auto', 0.1, 0.2],\n",
        "    'class_weight' : [None, 'balanced']\n",
        "}\n",
        "\n",
        "# avaliar o modelo\n",
        "svc_search = evaluate_model_tuning(SVC(random_state=42), svc_param_grid)"
      ],
      "metadata": {
        "id": "Ew2ErIGMi00A",
        "colab": {
          "base_uri": "https://localhost:8080/",
          "height": 875
        },
        "outputId": "db9fbe35-6635-480c-eafd-734a21dbaa2e"
      },
      "execution_count": 30,
      "outputs": [
        {
          "output_type": "stream",
          "name": "stdout",
          "text": [
            "Melhor: {'C': 1.0, 'class_weight': 'balanced', 'degree': 1, 'gamma': 'scale', 'kernel': 'rbf'}\n",
            "Métricas de treino\n"
          ]
        },
        {
          "output_type": "display_data",
          "data": {
            "text/plain": [
              "<Figure size 200x200 with 1 Axes>"
            ],
            "image/png": "[encoded data removed]"
          },
          "metadata": {}
        },
        {
          "output_type": "stream",
          "name": "stdout",
          "text": [
            "              precision    recall  f1-score   support\n",
            "\n",
            "      Normal    0.98039   0.99010   0.98522      1313\n",
            "       Fraud    0.96588   0.93401   0.94968       394\n",
            "\n",
            "    accuracy                        0.97715      1707\n",
            "   macro avg    0.97314   0.96205   0.96745      1707\n",
            "weighted avg    0.97704   0.97715   0.97702      1707\n",
            "\n",
            "AUC: 0.962054581092627\n",
            "\n",
            "\n",
            "Métricas de validação cruzada\n"
          ]
        },
        {
          "output_type": "display_data",
          "data": {
            "text/plain": [
              "<Figure size 200x200 with 1 Axes>"
            ],
            "image/png": "[encoded data removed]"
          },
          "metadata": {}
        },
        {
          "output_type": "stream",
          "name": "stdout",
          "text": [
            "              precision    recall  f1-score   support\n",
            "\n",
            "      Normal    0.97734   0.98553   0.98142      1313\n",
            "       Fraud    0.95039   0.92386   0.93694       394\n",
            "\n",
            "    accuracy                        0.97129      1707\n",
            "   macro avg    0.96387   0.95469   0.95918      1707\n",
            "weighted avg    0.97112   0.97129   0.97115      1707\n",
            "\n",
            "AUC: 0.9546935950916451\n"
          ]
        }
      ]
    },
    {
      "cell_type": "markdown",
      "source": [
        "#### Afinando Random Forest Classifier"
      ],
      "metadata": {
        "id": "7wi6dR_xqurl"
      }
    },
    {
      "cell_type": "code",
      "source": [
        "# definir os parâmetros para testar\n",
        "forest_param_grid = {\n",
        "    'n_estimators' : [70, 80, 90],\n",
        "    'criterion' : ['gini', 'entropy', 'log_loss'],\n",
        "    'max_depth' : [6, 7, 8],\n",
        "    'class_weight' : [None, 'balanced']\n",
        "}\n",
        "\n",
        "# avaliar o modelo\n",
        "forest_search = evaluate_model_tuning(RandomForestClassifier(random_state=42), forest_param_grid)"
      ],
      "metadata": {
        "id": "Wf_20zsdq0hD",
        "colab": {
          "base_uri": "https://localhost:8080/",
          "height": 875
        },
        "outputId": "18b7f288-7b6a-4f62-e6ba-2d493013c914"
      },
      "execution_count": 31,
      "outputs": [
        {
          "output_type": "stream",
          "name": "stdout",
          "text": [
            "Melhor: {'class_weight': 'balanced', 'criterion': 'gini', 'max_depth': 8, 'n_estimators': 70}\n",
            "Métricas de treino\n"
          ]
        },
        {
          "output_type": "display_data",
          "data": {
            "text/plain": [
              "<Figure size 200x200 with 1 Axes>"
            ],
            "image/png": "[encoded data removed]"
          },
          "metadata": {}
        },
        {
          "output_type": "stream",
          "name": "stdout",
          "text": [
            "              precision    recall  f1-score   support\n",
            "\n",
            "      Normal    0.99619   0.99695   0.99657      1313\n",
            "       Fraud    0.98982   0.98731   0.98856       394\n",
            "\n",
            "    accuracy                        0.99473      1707\n",
            "   macro avg    0.99301   0.99213   0.99257      1707\n",
            "weighted avg    0.99472   0.99473   0.99473      1707\n",
            "\n",
            "AUC: 0.9921315930890239\n",
            "\n",
            "\n",
            "Métricas de validação cruzada\n"
          ]
        },
        {
          "output_type": "display_data",
          "data": {
            "text/plain": [
              "<Figure size 200x200 with 1 Axes>"
            ],
            "image/png": "[encoded data removed]"
          },
          "metadata": {}
        },
        {
          "output_type": "stream",
          "name": "stdout",
          "text": [
            "              precision    recall  f1-score   support\n",
            "\n",
            "      Normal    0.98078   0.97182   0.97628      1313\n",
            "       Fraud    0.90887   0.93655   0.92250       394\n",
            "\n",
            "    accuracy                        0.96368      1707\n",
            "   macro avg    0.94483   0.95418   0.94939      1707\n",
            "weighted avg    0.96418   0.96368   0.96387      1707\n",
            "\n",
            "AUC: 0.9541842411496129\n"
          ]
        }
      ]
    },
    {
      "cell_type": "markdown",
      "source": [
        "### **7. Modelo Final**\n",
        "\n",
        "Após testar vários parâmetros diferentes para cada modelo, chegamos a seguinte conclusão:\n",
        "\n",
        "* **Logistic Regression:** esse modelo não aparenta estar com overfitting, e suas métricas são bem equilibradas entre recall e precision.\n",
        "\n",
        "* **Support Vector Classification:**  esse modelo está muito semelhante ao Logistic Regression, porém comete mais erros de classificar Fraude.\n",
        "\n",
        "* **Random Forest Classifier:** este modelo consegue ter excelentes métricas nos dados de treinamento, mas quando é testado na validação suas métricas pioram, ou seja esse modelo manteve-se com overfitting.\n",
        "\n",
        "Por essas razões, o modelo final será Logistic Regression, pois não possui overfitting e suas métricas são bem equilibradas com um bom recall.\n",
        "\n",
        "---\n",
        "\n",
        "#### **Testando o modelo nos dados de teste**\n",
        "\n",
        "Agora veremos se o modelo consegue performar bem nos dados de teste, ou seja os dados que eu separei anteriormente, e que o modelo nunca teve contato."
      ],
      "metadata": {
        "id": "b-TY27-8Gdaf"
      }
    },
    {
      "cell_type": "code",
      "source": [
        "# separar o modelo final\n",
        "final_model = lr_search.best_estimator_\n",
        "\n",
        "# aplicar escalonamento nos dados de teste\n",
        "X_test_prepared = scaler.transform(X_test)\n",
        "\n",
        "# realizar as predições\n",
        "y_pred = final_model.predict(X_test_prepared)\n",
        "\n",
        "# mostrar resultados\n",
        "print('Resultado do modelo final')\n",
        "\n",
        "# matriz de confusão\n",
        "conf_mat = confusion_matrix(y_test, y_pred)\n",
        "\n",
        "plt.figure(figsize=(2, 2))\n",
        "sns.heatmap(conf_mat, square=True, annot=True, fmt='d', cbar=False)\n",
        "plt.xlabel('Previsão do modelo')\n",
        "plt.ylabel('Valor verdadeiro')\n",
        "plt.show()\n",
        "\n",
        "# métricas\n",
        "print(classification_report(\n",
        "    y_test,\n",
        "    y_pred,\n",
        "    target_names=['Normal', 'Fraud'], digits=5))\n",
        "\n",
        "print('AUC:', roc_auc_score(y_test, y_pred))"
      ],
      "metadata": {
        "colab": {
          "base_uri": "https://localhost:8080/",
          "height": 420
        },
        "id": "QDBcWmuDdYOF",
        "outputId": "d1061bce-2029-40c7-fee8-475b4e345b68"
      },
      "execution_count": 35,
      "outputs": [
        {
          "output_type": "stream",
          "name": "stdout",
          "text": [
            "Resultado do modelo final\n"
          ]
        },
        {
          "output_type": "display_data",
          "data": {
            "text/plain": [
              "<Figure size 200x200 with 1 Axes>"
            ],
            "image/png": "[encoded data removed]"
          },
          "metadata": {}
        },
        {
          "output_type": "stream",
          "name": "stdout",
          "text": [
            "              precision    recall  f1-score   support\n",
            "\n",
            "      Normal    0.99978   0.98198   0.99080     50491\n",
            "       Fraud    0.08726   0.88776   0.15890        98\n",
            "\n",
            "    accuracy                        0.98179     50589\n",
            "   macro avg    0.54352   0.93487   0.57485     50589\n",
            "weighted avg    0.99801   0.98179   0.98919     50589\n",
            "\n",
            "AUC: 0.9348660440191604\n"
          ]
        }
      ]
    },
    {
      "cell_type": "markdown",
      "source": [
        "## Conclusão\n",
        "\n",
        "Conseguimos produzir um modelo final capaz de detectar grande parte dos casos de fraude. No final o modelo acabou com um recall de 0.88 nos dados de teste e 0.08 de precision, ou seja, nossa solução consegue prever muitos casos de fraude porém prevê muitos casos falsos. Em uma situação ideal o dataset precisaria ser mais balanceado para conseguir um equilíbrio maior entre recall e precision."
      ],
      "metadata": {
        "id": "AzZ822Xvew-2"
      }
    }
  ]
}